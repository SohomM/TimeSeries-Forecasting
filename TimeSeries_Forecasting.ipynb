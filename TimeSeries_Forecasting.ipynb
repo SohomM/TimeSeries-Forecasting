{
  "nbformat": 4,
  "nbformat_minor": 0,
  "metadata": {
    "colab": {
      "provenance": []
    },
    "kernelspec": {
      "name": "python3",
      "display_name": "Python 3"
    },
    "language_info": {
      "name": "python"
    }
  },
  "cells": [
    {
      "cell_type": "code",
      "execution_count": null,
      "metadata": {
        "id": "YNYlsyO1kQOL"
      },
      "outputs": [],
      "source": [
        "import numpy as np # linear algebra\n",
        "import pandas as pd # data processing\n",
        "\n",
        "import os\n",
        "for dirname, _, filenames in os.walk('/kaggle/input'):\n",
        "    for filename in filenames:\n",
        "        print(os.path.join(dirname, filename))"
      ]
    },
    {
      "cell_type": "code",
      "source": [
        "import kagglehub\n",
        "\n",
        "# Download latest version\n",
        "path = kagglehub.dataset_download(\"camnugent/sandp500\")\n",
        "\n",
        "print(\"Path to dataset files:\", path)"
      ],
      "metadata": {
        "colab": {
          "base_uri": "https://localhost:8080/"
        },
        "id": "Xq61nY84k8Bz",
        "outputId": "fb48c78d-7bea-4772-c5da-b28724a93c27"
      },
      "execution_count": null,
      "outputs": [
        {
          "output_type": "stream",
          "name": "stdout",
          "text": [
            "Path to dataset files: /kaggle/input/sandp500\n"
          ]
        }
      ]
    },
    {
      "cell_type": "code",
      "source": [
        "import pandas as pd\n",
        "df = pd.read_csv('/kaggle/input/sandp500/all_stocks_5yr.csv')\n",
        "df"
      ],
      "metadata": {
        "colab": {
          "base_uri": "https://localhost:8080/",
          "height": 423
        },
        "id": "QRviDc0Ikc_8",
        "outputId": "d550fdea-f755-4126-f23a-8d1f5ba2990b"
      },
      "execution_count": null,
      "outputs": [
        {
          "output_type": "execute_result",
          "data": {
            "text/plain": [
              "              date   open   high    low  close    volume Name\n",
              "0       2013-02-08  15.07  15.12  14.63  14.75   8407500  AAL\n",
              "1       2013-02-11  14.89  15.01  14.26  14.46   8882000  AAL\n",
              "2       2013-02-12  14.45  14.51  14.10  14.27   8126000  AAL\n",
              "3       2013-02-13  14.30  14.94  14.25  14.66  10259500  AAL\n",
              "4       2013-02-14  14.94  14.96  13.16  13.99  31879900  AAL\n",
              "...            ...    ...    ...    ...    ...       ...  ...\n",
              "619035  2018-02-01  76.84  78.27  76.69  77.82   2982259  ZTS\n",
              "619036  2018-02-02  77.53  78.12  76.73  76.78   2595187  ZTS\n",
              "619037  2018-02-05  76.64  76.92  73.18  73.83   2962031  ZTS\n",
              "619038  2018-02-06  72.74  74.56  72.13  73.27   4924323  ZTS\n",
              "619039  2018-02-07  72.70  75.00  72.69  73.86   4534912  ZTS\n",
              "\n",
              "[619040 rows x 7 columns]"
            ],
            "text/html": [
              "\n",
              "  <div id=\"df-d89c98e9-df81-42a7-8b90-e7623f81f853\" class=\"colab-df-container\">\n",
              "    <div>\n",
              "<style scoped>\n",
              "    .dataframe tbody tr th:only-of-type {\n",
              "        vertical-align: middle;\n",
              "    }\n",
              "\n",
              "    .dataframe tbody tr th {\n",
              "        vertical-align: top;\n",
              "    }\n",
              "\n",
              "    .dataframe thead th {\n",
              "        text-align: right;\n",
              "    }\n",
              "</style>\n",
              "<table border=\"1\" class=\"dataframe\">\n",
              "  <thead>\n",
              "    <tr style=\"text-align: right;\">\n",
              "      <th></th>\n",
              "      <th>date</th>\n",
              "      <th>open</th>\n",
              "      <th>high</th>\n",
              "      <th>low</th>\n",
              "      <th>close</th>\n",
              "      <th>volume</th>\n",
              "      <th>Name</th>\n",
              "    </tr>\n",
              "  </thead>\n",
              "  <tbody>\n",
              "    <tr>\n",
              "      <th>0</th>\n",
              "      <td>2013-02-08</td>\n",
              "      <td>15.07</td>\n",
              "      <td>15.12</td>\n",
              "      <td>14.63</td>\n",
              "      <td>14.75</td>\n",
              "      <td>8407500</td>\n",
              "      <td>AAL</td>\n",
              "    </tr>\n",
              "    <tr>\n",
              "      <th>1</th>\n",
              "      <td>2013-02-11</td>\n",
              "      <td>14.89</td>\n",
              "      <td>15.01</td>\n",
              "      <td>14.26</td>\n",
              "      <td>14.46</td>\n",
              "      <td>8882000</td>\n",
              "      <td>AAL</td>\n",
              "    </tr>\n",
              "    <tr>\n",
              "      <th>2</th>\n",
              "      <td>2013-02-12</td>\n",
              "      <td>14.45</td>\n",
              "      <td>14.51</td>\n",
              "      <td>14.10</td>\n",
              "      <td>14.27</td>\n",
              "      <td>8126000</td>\n",
              "      <td>AAL</td>\n",
              "    </tr>\n",
              "    <tr>\n",
              "      <th>3</th>\n",
              "      <td>2013-02-13</td>\n",
              "      <td>14.30</td>\n",
              "      <td>14.94</td>\n",
              "      <td>14.25</td>\n",
              "      <td>14.66</td>\n",
              "      <td>10259500</td>\n",
              "      <td>AAL</td>\n",
              "    </tr>\n",
              "    <tr>\n",
              "      <th>4</th>\n",
              "      <td>2013-02-14</td>\n",
              "      <td>14.94</td>\n",
              "      <td>14.96</td>\n",
              "      <td>13.16</td>\n",
              "      <td>13.99</td>\n",
              "      <td>31879900</td>\n",
              "      <td>AAL</td>\n",
              "    </tr>\n",
              "    <tr>\n",
              "      <th>...</th>\n",
              "      <td>...</td>\n",
              "      <td>...</td>\n",
              "      <td>...</td>\n",
              "      <td>...</td>\n",
              "      <td>...</td>\n",
              "      <td>...</td>\n",
              "      <td>...</td>\n",
              "    </tr>\n",
              "    <tr>\n",
              "      <th>619035</th>\n",
              "      <td>2018-02-01</td>\n",
              "      <td>76.84</td>\n",
              "      <td>78.27</td>\n",
              "      <td>76.69</td>\n",
              "      <td>77.82</td>\n",
              "      <td>2982259</td>\n",
              "      <td>ZTS</td>\n",
              "    </tr>\n",
              "    <tr>\n",
              "      <th>619036</th>\n",
              "      <td>2018-02-02</td>\n",
              "      <td>77.53</td>\n",
              "      <td>78.12</td>\n",
              "      <td>76.73</td>\n",
              "      <td>76.78</td>\n",
              "      <td>2595187</td>\n",
              "      <td>ZTS</td>\n",
              "    </tr>\n",
              "    <tr>\n",
              "      <th>619037</th>\n",
              "      <td>2018-02-05</td>\n",
              "      <td>76.64</td>\n",
              "      <td>76.92</td>\n",
              "      <td>73.18</td>\n",
              "      <td>73.83</td>\n",
              "      <td>2962031</td>\n",
              "      <td>ZTS</td>\n",
              "    </tr>\n",
              "    <tr>\n",
              "      <th>619038</th>\n",
              "      <td>2018-02-06</td>\n",
              "      <td>72.74</td>\n",
              "      <td>74.56</td>\n",
              "      <td>72.13</td>\n",
              "      <td>73.27</td>\n",
              "      <td>4924323</td>\n",
              "      <td>ZTS</td>\n",
              "    </tr>\n",
              "    <tr>\n",
              "      <th>619039</th>\n",
              "      <td>2018-02-07</td>\n",
              "      <td>72.70</td>\n",
              "      <td>75.00</td>\n",
              "      <td>72.69</td>\n",
              "      <td>73.86</td>\n",
              "      <td>4534912</td>\n",
              "      <td>ZTS</td>\n",
              "    </tr>\n",
              "  </tbody>\n",
              "</table>\n",
              "<p>619040 rows × 7 columns</p>\n",
              "</div>\n",
              "    <div class=\"colab-df-buttons\">\n",
              "\n",
              "  <div class=\"colab-df-container\">\n",
              "    <button class=\"colab-df-convert\" onclick=\"convertToInteractive('df-d89c98e9-df81-42a7-8b90-e7623f81f853')\"\n",
              "            title=\"Convert this dataframe to an interactive table.\"\n",
              "            style=\"display:none;\">\n",
              "\n",
              "  <svg xmlns=\"http://www.w3.org/2000/svg\" height=\"24px\" viewBox=\"0 -960 960 960\">\n",
              "    <path d=\"M120-120v-720h720v720H120Zm60-500h600v-160H180v160Zm220 220h160v-160H400v160Zm0 220h160v-160H400v160ZM180-400h160v-160H180v160Zm440 0h160v-160H620v160ZM180-180h160v-160H180v160Zm440 0h160v-160H620v160Z\"/>\n",
              "  </svg>\n",
              "    </button>\n",
              "\n",
              "  <style>\n",
              "    .colab-df-container {\n",
              "      display:flex;\n",
              "      gap: 12px;\n",
              "    }\n",
              "\n",
              "    .colab-df-convert {\n",
              "      background-color: #E8F0FE;\n",
              "      border: none;\n",
              "      border-radius: 50%;\n",
              "      cursor: pointer;\n",
              "      display: none;\n",
              "      fill: #1967D2;\n",
              "      height: 32px;\n",
              "      padding: 0 0 0 0;\n",
              "      width: 32px;\n",
              "    }\n",
              "\n",
              "    .colab-df-convert:hover {\n",
              "      background-color: #E2EBFA;\n",
              "      box-shadow: 0px 1px 2px rgba(60, 64, 67, 0.3), 0px 1px 3px 1px rgba(60, 64, 67, 0.15);\n",
              "      fill: #174EA6;\n",
              "    }\n",
              "\n",
              "    .colab-df-buttons div {\n",
              "      margin-bottom: 4px;\n",
              "    }\n",
              "\n",
              "    [theme=dark] .colab-df-convert {\n",
              "      background-color: #3B4455;\n",
              "      fill: #D2E3FC;\n",
              "    }\n",
              "\n",
              "    [theme=dark] .colab-df-convert:hover {\n",
              "      background-color: #434B5C;\n",
              "      box-shadow: 0px 1px 3px 1px rgba(0, 0, 0, 0.15);\n",
              "      filter: drop-shadow(0px 1px 2px rgba(0, 0, 0, 0.3));\n",
              "      fill: #FFFFFF;\n",
              "    }\n",
              "  </style>\n",
              "\n",
              "    <script>\n",
              "      const buttonEl =\n",
              "        document.querySelector('#df-d89c98e9-df81-42a7-8b90-e7623f81f853 button.colab-df-convert');\n",
              "      buttonEl.style.display =\n",
              "        google.colab.kernel.accessAllowed ? 'block' : 'none';\n",
              "\n",
              "      async function convertToInteractive(key) {\n",
              "        const element = document.querySelector('#df-d89c98e9-df81-42a7-8b90-e7623f81f853');\n",
              "        const dataTable =\n",
              "          await google.colab.kernel.invokeFunction('convertToInteractive',\n",
              "                                                    [key], {});\n",
              "        if (!dataTable) return;\n",
              "\n",
              "        const docLinkHtml = 'Like what you see? Visit the ' +\n",
              "          '<a target=\"_blank\" href=https://colab.research.google.com/notebooks/data_table.ipynb>data table notebook</a>'\n",
              "          + ' to learn more about interactive tables.';\n",
              "        element.innerHTML = '';\n",
              "        dataTable['output_type'] = 'display_data';\n",
              "        await google.colab.output.renderOutput(dataTable, element);\n",
              "        const docLink = document.createElement('div');\n",
              "        docLink.innerHTML = docLinkHtml;\n",
              "        element.appendChild(docLink);\n",
              "      }\n",
              "    </script>\n",
              "  </div>\n",
              "\n",
              "\n",
              "    <div id=\"df-e19a2892-9aa0-4c1f-80e8-df380127113a\">\n",
              "      <button class=\"colab-df-quickchart\" onclick=\"quickchart('df-e19a2892-9aa0-4c1f-80e8-df380127113a')\"\n",
              "                title=\"Suggest charts\"\n",
              "                style=\"display:none;\">\n",
              "\n",
              "<svg xmlns=\"http://www.w3.org/2000/svg\" height=\"24px\"viewBox=\"0 0 24 24\"\n",
              "     width=\"24px\">\n",
              "    <g>\n",
              "        <path d=\"M19 3H5c-1.1 0-2 .9-2 2v14c0 1.1.9 2 2 2h14c1.1 0 2-.9 2-2V5c0-1.1-.9-2-2-2zM9 17H7v-7h2v7zm4 0h-2V7h2v10zm4 0h-2v-4h2v4z\"/>\n",
              "    </g>\n",
              "</svg>\n",
              "      </button>\n",
              "\n",
              "<style>\n",
              "  .colab-df-quickchart {\n",
              "      --bg-color: #E8F0FE;\n",
              "      --fill-color: #1967D2;\n",
              "      --hover-bg-color: #E2EBFA;\n",
              "      --hover-fill-color: #174EA6;\n",
              "      --disabled-fill-color: #AAA;\n",
              "      --disabled-bg-color: #DDD;\n",
              "  }\n",
              "\n",
              "  [theme=dark] .colab-df-quickchart {\n",
              "      --bg-color: #3B4455;\n",
              "      --fill-color: #D2E3FC;\n",
              "      --hover-bg-color: #434B5C;\n",
              "      --hover-fill-color: #FFFFFF;\n",
              "      --disabled-bg-color: #3B4455;\n",
              "      --disabled-fill-color: #666;\n",
              "  }\n",
              "\n",
              "  .colab-df-quickchart {\n",
              "    background-color: var(--bg-color);\n",
              "    border: none;\n",
              "    border-radius: 50%;\n",
              "    cursor: pointer;\n",
              "    display: none;\n",
              "    fill: var(--fill-color);\n",
              "    height: 32px;\n",
              "    padding: 0;\n",
              "    width: 32px;\n",
              "  }\n",
              "\n",
              "  .colab-df-quickchart:hover {\n",
              "    background-color: var(--hover-bg-color);\n",
              "    box-shadow: 0 1px 2px rgba(60, 64, 67, 0.3), 0 1px 3px 1px rgba(60, 64, 67, 0.15);\n",
              "    fill: var(--button-hover-fill-color);\n",
              "  }\n",
              "\n",
              "  .colab-df-quickchart-complete:disabled,\n",
              "  .colab-df-quickchart-complete:disabled:hover {\n",
              "    background-color: var(--disabled-bg-color);\n",
              "    fill: var(--disabled-fill-color);\n",
              "    box-shadow: none;\n",
              "  }\n",
              "\n",
              "  .colab-df-spinner {\n",
              "    border: 2px solid var(--fill-color);\n",
              "    border-color: transparent;\n",
              "    border-bottom-color: var(--fill-color);\n",
              "    animation:\n",
              "      spin 1s steps(1) infinite;\n",
              "  }\n",
              "\n",
              "  @keyframes spin {\n",
              "    0% {\n",
              "      border-color: transparent;\n",
              "      border-bottom-color: var(--fill-color);\n",
              "      border-left-color: var(--fill-color);\n",
              "    }\n",
              "    20% {\n",
              "      border-color: transparent;\n",
              "      border-left-color: var(--fill-color);\n",
              "      border-top-color: var(--fill-color);\n",
              "    }\n",
              "    30% {\n",
              "      border-color: transparent;\n",
              "      border-left-color: var(--fill-color);\n",
              "      border-top-color: var(--fill-color);\n",
              "      border-right-color: var(--fill-color);\n",
              "    }\n",
              "    40% {\n",
              "      border-color: transparent;\n",
              "      border-right-color: var(--fill-color);\n",
              "      border-top-color: var(--fill-color);\n",
              "    }\n",
              "    60% {\n",
              "      border-color: transparent;\n",
              "      border-right-color: var(--fill-color);\n",
              "    }\n",
              "    80% {\n",
              "      border-color: transparent;\n",
              "      border-right-color: var(--fill-color);\n",
              "      border-bottom-color: var(--fill-color);\n",
              "    }\n",
              "    90% {\n",
              "      border-color: transparent;\n",
              "      border-bottom-color: var(--fill-color);\n",
              "    }\n",
              "  }\n",
              "</style>\n",
              "\n",
              "      <script>\n",
              "        async function quickchart(key) {\n",
              "          const quickchartButtonEl =\n",
              "            document.querySelector('#' + key + ' button');\n",
              "          quickchartButtonEl.disabled = true;  // To prevent multiple clicks.\n",
              "          quickchartButtonEl.classList.add('colab-df-spinner');\n",
              "          try {\n",
              "            const charts = await google.colab.kernel.invokeFunction(\n",
              "                'suggestCharts', [key], {});\n",
              "          } catch (error) {\n",
              "            console.error('Error during call to suggestCharts:', error);\n",
              "          }\n",
              "          quickchartButtonEl.classList.remove('colab-df-spinner');\n",
              "          quickchartButtonEl.classList.add('colab-df-quickchart-complete');\n",
              "        }\n",
              "        (() => {\n",
              "          let quickchartButtonEl =\n",
              "            document.querySelector('#df-e19a2892-9aa0-4c1f-80e8-df380127113a button');\n",
              "          quickchartButtonEl.style.display =\n",
              "            google.colab.kernel.accessAllowed ? 'block' : 'none';\n",
              "        })();\n",
              "      </script>\n",
              "    </div>\n",
              "\n",
              "  <div id=\"id_1563a63b-a622-4c30-945e-053a61ca287e\">\n",
              "    <style>\n",
              "      .colab-df-generate {\n",
              "        background-color: #E8F0FE;\n",
              "        border: none;\n",
              "        border-radius: 50%;\n",
              "        cursor: pointer;\n",
              "        display: none;\n",
              "        fill: #1967D2;\n",
              "        height: 32px;\n",
              "        padding: 0 0 0 0;\n",
              "        width: 32px;\n",
              "      }\n",
              "\n",
              "      .colab-df-generate:hover {\n",
              "        background-color: #E2EBFA;\n",
              "        box-shadow: 0px 1px 2px rgba(60, 64, 67, 0.3), 0px 1px 3px 1px rgba(60, 64, 67, 0.15);\n",
              "        fill: #174EA6;\n",
              "      }\n",
              "\n",
              "      [theme=dark] .colab-df-generate {\n",
              "        background-color: #3B4455;\n",
              "        fill: #D2E3FC;\n",
              "      }\n",
              "\n",
              "      [theme=dark] .colab-df-generate:hover {\n",
              "        background-color: #434B5C;\n",
              "        box-shadow: 0px 1px 3px 1px rgba(0, 0, 0, 0.15);\n",
              "        filter: drop-shadow(0px 1px 2px rgba(0, 0, 0, 0.3));\n",
              "        fill: #FFFFFF;\n",
              "      }\n",
              "    </style>\n",
              "    <button class=\"colab-df-generate\" onclick=\"generateWithVariable('df')\"\n",
              "            title=\"Generate code using this dataframe.\"\n",
              "            style=\"display:none;\">\n",
              "\n",
              "  <svg xmlns=\"http://www.w3.org/2000/svg\" height=\"24px\"viewBox=\"0 0 24 24\"\n",
              "       width=\"24px\">\n",
              "    <path d=\"M7,19H8.4L18.45,9,17,7.55,7,17.6ZM5,21V16.75L18.45,3.32a2,2,0,0,1,2.83,0l1.4,1.43a1.91,1.91,0,0,1,.58,1.4,1.91,1.91,0,0,1-.58,1.4L9.25,21ZM18.45,9,17,7.55Zm-12,3A5.31,5.31,0,0,0,4.9,8.1,5.31,5.31,0,0,0,1,6.5,5.31,5.31,0,0,0,4.9,4.9,5.31,5.31,0,0,0,6.5,1,5.31,5.31,0,0,0,8.1,4.9,5.31,5.31,0,0,0,12,6.5,5.46,5.46,0,0,0,6.5,12Z\"/>\n",
              "  </svg>\n",
              "    </button>\n",
              "    <script>\n",
              "      (() => {\n",
              "      const buttonEl =\n",
              "        document.querySelector('#id_1563a63b-a622-4c30-945e-053a61ca287e button.colab-df-generate');\n",
              "      buttonEl.style.display =\n",
              "        google.colab.kernel.accessAllowed ? 'block' : 'none';\n",
              "\n",
              "      buttonEl.onclick = () => {\n",
              "        google.colab.notebook.generateWithVariable('df');\n",
              "      }\n",
              "      })();\n",
              "    </script>\n",
              "  </div>\n",
              "\n",
              "    </div>\n",
              "  </div>\n"
            ],
            "application/vnd.google.colaboratory.intrinsic+json": {
              "type": "dataframe",
              "variable_name": "df"
            }
          },
          "metadata": {},
          "execution_count": 5
        }
      ]
    },
    {
      "cell_type": "code",
      "source": [
        "df = df.reset_index()['close']\n",
        "df.shape\n",
        "import matplotlib.pyplot as plt\n",
        "import numpy as np\n",
        "plt.plot(df)"
      ],
      "metadata": {
        "colab": {
          "base_uri": "https://localhost:8080/",
          "height": 447
        },
        "id": "2vNDFZqCkgdC",
        "outputId": "6c964dec-344a-4ed6-a630-bd94c1a6cade"
      },
      "execution_count": null,
      "outputs": [
        {
          "output_type": "execute_result",
          "data": {
            "text/plain": [
              "[<matplotlib.lines.Line2D at 0x7be83c10bcd0>]"
            ]
          },
          "metadata": {},
          "execution_count": 6
        },
        {
          "output_type": "display_data",
          "data": {
            "text/plain": [
              "<Figure size 640x480 with 1 Axes>"
            ],
            "image/png": "[encoded data removed]"
          },
          "metadata": {}
        }
      ]
    },
    {
      "cell_type": "code",
      "source": [
        "import numpy as np\n",
        "from sklearn.preprocessing import MinMaxScaler\n",
        "scaler = MinMaxScaler(feature_range = (0,1))\n",
        "df = scaler.fit_transform(np.array(df).reshape(-1,1))"
      ],
      "metadata": {
        "id": "URMauZ2PlP31"
      },
      "execution_count": null,
      "outputs": []
    },
    {
      "cell_type": "code",
      "source": [
        "df.shape"
      ],
      "metadata": {
        "colab": {
          "base_uri": "https://localhost:8080/"
        },
        "id": "YJjm0I5alTO6",
        "outputId": "ca69cae5-d51d-4fdd-e147-1b6f87ce9331"
      },
      "execution_count": null,
      "outputs": [
        {
          "output_type": "execute_result",
          "data": {
            "text/plain": [
              "(619040, 1)"
            ]
          },
          "metadata": {},
          "execution_count": 8
        }
      ]
    },
    {
      "cell_type": "code",
      "source": [
        "#splitting dataset into train test split\n",
        "training_size = int(len(df)*0.65) # Convert training_size to an integer\n",
        "test_size = len(df)-training_size\n",
        "train_data,test_data = df[0:training_size,:],df[training_size:len(df),:1]"
      ],
      "metadata": {
        "id": "nl8P6kEilW_h"
      },
      "execution_count": null,
      "outputs": []
    },
    {
      "cell_type": "code",
      "source": [
        "training_size,test_size"
      ],
      "metadata": {
        "colab": {
          "base_uri": "https://localhost:8080/"
        },
        "id": "9UbxQg9zlmlI",
        "outputId": "035f0b87-6a22-4ec4-c10c-9a2ac1a9f097"
      },
      "execution_count": null,
      "outputs": [
        {
          "output_type": "execute_result",
          "data": {
            "text/plain": [
              "(402376, 216664)"
            ]
          },
          "metadata": {},
          "execution_count": 11
        }
      ]
    },
    {
      "cell_type": "code",
      "source": [
        "df"
      ],
      "metadata": {
        "colab": {
          "base_uri": "https://localhost:8080/"
        },
        "id": "OQacwfomlpPM",
        "outputId": "4148920e-8360-46e8-fc6a-df266dd78d42"
      },
      "execution_count": null,
      "outputs": [
        {
          "output_type": "execute_result",
          "data": {
            "text/plain": [
              "array([[0.00642763],\n",
              "       [0.00628599],\n",
              "       [0.00619319],\n",
              "       ...,\n",
              "       [0.0352836 ],\n",
              "       [0.03501009],\n",
              "       [0.03529825]])"
            ]
          },
          "metadata": {},
          "execution_count": 12
        }
      ]
    },
    {
      "cell_type": "code",
      "source": [
        "import numpy\n",
        "def create_dataset(dataset, time_step=1):\n",
        "    dataX, dataY = [],[]\n",
        "    for i in range(len(dataset)-time_step-1):\n",
        "        a = dataset[i:(i+time_step),0]\n",
        "        dataX.append(a)\n",
        "        # The bug was in this line, the index was incorrectly specified and resulting in inconsistent shapes.\n",
        "        #dataY.append(dataset[i: time_step,0])\n",
        "        # The following line fixes it by taking a single value for y at timestep ahead\n",
        "        dataY.append(dataset[i + time_step, 0])\n",
        "    return numpy.array(dataX), numpy.array(dataY)"
      ],
      "metadata": {
        "id": "JgHvng1JltM0"
      },
      "execution_count": null,
      "outputs": []
    },
    {
      "cell_type": "code",
      "source": [
        "#reshape into X=t,t+1,t+2,t+3 and Y=t+4\n",
        "time_step = 100\n",
        "X_train, y_train = create_dataset(train_data, time_step)\n",
        "X_test, ytest = create_dataset(test_data, time_step)"
      ],
      "metadata": {
        "id": "dJPSLGrflxBG"
      },
      "execution_count": null,
      "outputs": []
    },
    {
      "cell_type": "code",
      "source": [
        "print(X_test.shape), print(ytest.shape)"
      ],
      "metadata": {
        "colab": {
          "base_uri": "https://localhost:8080/"
        },
        "id": "W6z2ve5FmL_2",
        "outputId": "2e39b80a-3f64-4659-eb46-32266aded0a4"
      },
      "execution_count": null,
      "outputs": [
        {
          "output_type": "stream",
          "name": "stdout",
          "text": [
            "(216563, 100)\n",
            "(216563,)\n"
          ]
        },
        {
          "output_type": "execute_result",
          "data": {
            "text/plain": [
              "(None, None)"
            ]
          },
          "metadata": {},
          "execution_count": 17
        }
      ]
    },
    {
      "cell_type": "code",
      "source": [
        "# reshape input to be [samples, time steps, features] which is required for LSTM\n",
        "X_train =X_train.reshape(X_train.shape[0],X_train.shape[1] , 1)\n",
        "X_test = X_test.reshape(X_test.shape[0],X_test.shape[1] , 1)"
      ],
      "metadata": {
        "id": "lGc39y8mmPd9"
      },
      "execution_count": null,
      "outputs": []
    },
    {
      "cell_type": "code",
      "source": [
        "### Create the Stacked LSTM model\n",
        "from tensorflow.keras.models import Sequential\n",
        "from tensorflow.keras.layers import Dense\n",
        "from tensorflow.keras.layers import LSTM"
      ],
      "metadata": {
        "id": "YuQhwFPamTPo"
      },
      "execution_count": null,
      "outputs": []
    },
    {
      "cell_type": "code",
      "source": [
        "model=Sequential()\n",
        "model.add(LSTM(50,return_sequences=True,input_shape=(100,1)))\n",
        "model.add(LSTM(50,return_sequences=True))\n",
        "model.add(LSTM(50))\n",
        "model.add(Dense(1))\n",
        "model.compile(loss='mean_squared_error',optimizer='adam')"
      ],
      "metadata": {
        "colab": {
          "base_uri": "https://localhost:8080/"
        },
        "id": "nRjwH4PVmYex",
        "outputId": "548d12f1-1a35-40af-a3dc-9c912398348e"
      },
      "execution_count": null,
      "outputs": [
        {
          "output_type": "stream",
          "name": "stderr",
          "text": [
            "/usr/local/lib/python3.11/dist-packages/keras/src/layers/rnn/rnn.py:200: UserWarning: Do not pass an `input_shape`/`input_dim` argument to a layer. When using Sequential models, prefer using an `Input(shape)` object as the first layer in the model instead.\n",
            "  super().__init__(**kwargs)\n"
          ]
        }
      ]
    },
    {
      "cell_type": "code",
      "source": [
        "model.summary()"
      ],
      "metadata": {
        "colab": {
          "base_uri": "https://localhost:8080/",
          "height": 257
        },
        "id": "SJqHTeIhmb9K",
        "outputId": "d2befa21-8bcf-4143-a7ab-9a89fb485421"
      },
      "execution_count": null,
      "outputs": [
        {
          "output_type": "display_data",
          "data": {
            "text/plain": [
              "\u001b[1mModel: \"sequential\"\u001b[0m\n"
            ],
            "text/html": [
              "<pre style=\"white-space:pre;overflow-x:auto;line-height:normal;font-family:Menlo,'DejaVu Sans Mono',consolas,'Courier New',monospace\"><span style=\"font-weight: bold\">Model: \"sequential\"</span>\n",
              "</pre>\n"
            ]
          },
          "metadata": {}
        },
        {
          "output_type": "display_data",
          "data": {
            "text/plain": [
              "┏━━━━━━━━━━━━━━━━━━━━━━━━━━━━━━━━━┳━━━━━━━━━━━━━━━━━━━━━━━━┳━━━━━━━━━━━━━━━┓\n",
              "┃\u001b[1m \u001b[0m\u001b[1mLayer (type)                   \u001b[0m\u001b[1m \u001b[0m┃\u001b[1m \u001b[0m\u001b[1mOutput Shape          \u001b[0m\u001b[1m \u001b[0m┃\u001b[1m \u001b[0m\u001b[1m      Param #\u001b[0m\u001b[1m \u001b[0m┃\n",
              "┡━━━━━━━━━━━━━━━━━━━━━━━━━━━━━━━━━╇━━━━━━━━━━━━━━━━━━━━━━━━╇━━━━━━━━━━━━━━━┩\n",
              "│ lstm (\u001b[38;5;33mLSTM\u001b[0m)                     │ (\u001b[38;5;45mNone\u001b[0m, \u001b[38;5;34m100\u001b[0m, \u001b[38;5;34m50\u001b[0m)        │        \u001b[38;5;34m10,400\u001b[0m │\n",
              "├─────────────────────────────────┼────────────────────────┼───────────────┤\n",
              "│ lstm_1 (\u001b[38;5;33mLSTM\u001b[0m)                   │ (\u001b[38;5;45mNone\u001b[0m, \u001b[38;5;34m100\u001b[0m, \u001b[38;5;34m50\u001b[0m)        │        \u001b[38;5;34m20,200\u001b[0m │\n",
              "├─────────────────────────────────┼────────────────────────┼───────────────┤\n",
              "│ lstm_2 (\u001b[38;5;33mLSTM\u001b[0m)                   │ (\u001b[38;5;45mNone\u001b[0m, \u001b[38;5;34m50\u001b[0m)             │        \u001b[38;5;34m20,200\u001b[0m │\n",
              "├─────────────────────────────────┼────────────────────────┼───────────────┤\n",
              "│ dense (\u001b[38;5;33mDense\u001b[0m)                   │ (\u001b[38;5;45mNone\u001b[0m, \u001b[38;5;34m1\u001b[0m)              │            \u001b[38;5;34m51\u001b[0m │\n",
              "└─────────────────────────────────┴────────────────────────┴───────────────┘\n"
            ],
            "text/html": [
              "<pre style=\"white-space:pre;overflow-x:auto;line-height:normal;font-family:Menlo,'DejaVu Sans Mono',consolas,'Courier New',monospace\">┏━━━━━━━━━━━━━━━━━━━━━━━━━━━━━━━━━┳━━━━━━━━━━━━━━━━━━━━━━━━┳━━━━━━━━━━━━━━━┓\n",
              "┃<span style=\"font-weight: bold\"> Layer (type)                    </span>┃<span style=\"font-weight: bold\"> Output Shape           </span>┃<span style=\"font-weight: bold\">       Param # </span>┃\n",
              "┡━━━━━━━━━━━━━━━━━━━━━━━━━━━━━━━━━╇━━━━━━━━━━━━━━━━━━━━━━━━╇━━━━━━━━━━━━━━━┩\n",
              "│ lstm (<span style=\"color: #0087ff; text-decoration-color: #0087ff\">LSTM</span>)                     │ (<span style=\"color: #00d7ff; text-decoration-color: #00d7ff\">None</span>, <span style=\"color: #00af00; text-decoration-color: #00af00\">100</span>, <span style=\"color: #00af00; text-decoration-color: #00af00\">50</span>)        │        <span style=\"color: #00af00; text-decoration-color: #00af00\">10,400</span> │\n",
              "├─────────────────────────────────┼────────────────────────┼───────────────┤\n",
              "│ lstm_1 (<span style=\"color: #0087ff; text-decoration-color: #0087ff\">LSTM</span>)                   │ (<span style=\"color: #00d7ff; text-decoration-color: #00d7ff\">None</span>, <span style=\"color: #00af00; text-decoration-color: #00af00\">100</span>, <span style=\"color: #00af00; text-decoration-color: #00af00\">50</span>)        │        <span style=\"color: #00af00; text-decoration-color: #00af00\">20,200</span> │\n",
              "├─────────────────────────────────┼────────────────────────┼───────────────┤\n",
              "│ lstm_2 (<span style=\"color: #0087ff; text-decoration-color: #0087ff\">LSTM</span>)                   │ (<span style=\"color: #00d7ff; text-decoration-color: #00d7ff\">None</span>, <span style=\"color: #00af00; text-decoration-color: #00af00\">50</span>)             │        <span style=\"color: #00af00; text-decoration-color: #00af00\">20,200</span> │\n",
              "├─────────────────────────────────┼────────────────────────┼───────────────┤\n",
              "│ dense (<span style=\"color: #0087ff; text-decoration-color: #0087ff\">Dense</span>)                   │ (<span style=\"color: #00d7ff; text-decoration-color: #00d7ff\">None</span>, <span style=\"color: #00af00; text-decoration-color: #00af00\">1</span>)              │            <span style=\"color: #00af00; text-decoration-color: #00af00\">51</span> │\n",
              "└─────────────────────────────────┴────────────────────────┴───────────────┘\n",
              "</pre>\n"
            ]
          },
          "metadata": {}
        },
        {
          "output_type": "display_data",
          "data": {
            "text/plain": [
              "\u001b[1m Total params: \u001b[0m\u001b[38;5;34m50,851\u001b[0m (198.64 KB)\n"
            ],
            "text/html": [
              "<pre style=\"white-space:pre;overflow-x:auto;line-height:normal;font-family:Menlo,'DejaVu Sans Mono',consolas,'Courier New',monospace\"><span style=\"font-weight: bold\"> Total params: </span><span style=\"color: #00af00; text-decoration-color: #00af00\">50,851</span> (198.64 KB)\n",
              "</pre>\n"
            ]
          },
          "metadata": {}
        },
        {
          "output_type": "display_data",
          "data": {
            "text/plain": [
              "\u001b[1m Trainable params: \u001b[0m\u001b[38;5;34m50,851\u001b[0m (198.64 KB)\n"
            ],
            "text/html": [
              "<pre style=\"white-space:pre;overflow-x:auto;line-height:normal;font-family:Menlo,'DejaVu Sans Mono',consolas,'Courier New',monospace\"><span style=\"font-weight: bold\"> Trainable params: </span><span style=\"color: #00af00; text-decoration-color: #00af00\">50,851</span> (198.64 KB)\n",
              "</pre>\n"
            ]
          },
          "metadata": {}
        },
        {
          "output_type": "display_data",
          "data": {
            "text/plain": [
              "\u001b[1m Non-trainable params: \u001b[0m\u001b[38;5;34m0\u001b[0m (0.00 B)\n"
            ],
            "text/html": [
              "<pre style=\"white-space:pre;overflow-x:auto;line-height:normal;font-family:Menlo,'DejaVu Sans Mono',consolas,'Courier New',monospace\"><span style=\"font-weight: bold\"> Non-trainable params: </span><span style=\"color: #00af00; text-decoration-color: #00af00\">0</span> (0.00 B)\n",
              "</pre>\n"
            ]
          },
          "metadata": {}
        }
      ]
    },
    {
      "cell_type": "code",
      "source": [
        "model.summary()"
      ],
      "metadata": {
        "colab": {
          "base_uri": "https://localhost:8080/",
          "height": 257
        },
        "id": "FinQj6SPmgQ7",
        "outputId": "82ee7785-45b1-4897-e21f-bea738857717"
      },
      "execution_count": null,
      "outputs": [
        {
          "output_type": "display_data",
          "data": {
            "text/plain": [
              "\u001b[1mModel: \"sequential\"\u001b[0m\n"
            ],
            "text/html": [
              "<pre style=\"white-space:pre;overflow-x:auto;line-height:normal;font-family:Menlo,'DejaVu Sans Mono',consolas,'Courier New',monospace\"><span style=\"font-weight: bold\">Model: \"sequential\"</span>\n",
              "</pre>\n"
            ]
          },
          "metadata": {}
        },
        {
          "output_type": "display_data",
          "data": {
            "text/plain": [
              "┏━━━━━━━━━━━━━━━━━━━━━━━━━━━━━━━━━┳━━━━━━━━━━━━━━━━━━━━━━━━┳━━━━━━━━━━━━━━━┓\n",
              "┃\u001b[1m \u001b[0m\u001b[1mLayer (type)                   \u001b[0m\u001b[1m \u001b[0m┃\u001b[1m \u001b[0m\u001b[1mOutput Shape          \u001b[0m\u001b[1m \u001b[0m┃\u001b[1m \u001b[0m\u001b[1m      Param #\u001b[0m\u001b[1m \u001b[0m┃\n",
              "┡━━━━━━━━━━━━━━━━━━━━━━━━━━━━━━━━━╇━━━━━━━━━━━━━━━━━━━━━━━━╇━━━━━━━━━━━━━━━┩\n",
              "│ lstm (\u001b[38;5;33mLSTM\u001b[0m)                     │ (\u001b[38;5;45mNone\u001b[0m, \u001b[38;5;34m100\u001b[0m, \u001b[38;5;34m50\u001b[0m)        │        \u001b[38;5;34m10,400\u001b[0m │\n",
              "├─────────────────────────────────┼────────────────────────┼───────────────┤\n",
              "│ lstm_1 (\u001b[38;5;33mLSTM\u001b[0m)                   │ (\u001b[38;5;45mNone\u001b[0m, \u001b[38;5;34m100\u001b[0m, \u001b[38;5;34m50\u001b[0m)        │        \u001b[38;5;34m20,200\u001b[0m │\n",
              "├─────────────────────────────────┼────────────────────────┼───────────────┤\n",
              "│ lstm_2 (\u001b[38;5;33mLSTM\u001b[0m)                   │ (\u001b[38;5;45mNone\u001b[0m, \u001b[38;5;34m50\u001b[0m)             │        \u001b[38;5;34m20,200\u001b[0m │\n",
              "├─────────────────────────────────┼────────────────────────┼───────────────┤\n",
              "│ dense (\u001b[38;5;33mDense\u001b[0m)                   │ (\u001b[38;5;45mNone\u001b[0m, \u001b[38;5;34m1\u001b[0m)              │            \u001b[38;5;34m51\u001b[0m │\n",
              "└─────────────────────────────────┴────────────────────────┴───────────────┘\n"
            ],
            "text/html": [
              "<pre style=\"white-space:pre;overflow-x:auto;line-height:normal;font-family:Menlo,'DejaVu Sans Mono',consolas,'Courier New',monospace\">┏━━━━━━━━━━━━━━━━━━━━━━━━━━━━━━━━━┳━━━━━━━━━━━━━━━━━━━━━━━━┳━━━━━━━━━━━━━━━┓\n",
              "┃<span style=\"font-weight: bold\"> Layer (type)                    </span>┃<span style=\"font-weight: bold\"> Output Shape           </span>┃<span style=\"font-weight: bold\">       Param # </span>┃\n",
              "┡━━━━━━━━━━━━━━━━━━━━━━━━━━━━━━━━━╇━━━━━━━━━━━━━━━━━━━━━━━━╇━━━━━━━━━━━━━━━┩\n",
              "│ lstm (<span style=\"color: #0087ff; text-decoration-color: #0087ff\">LSTM</span>)                     │ (<span style=\"color: #00d7ff; text-decoration-color: #00d7ff\">None</span>, <span style=\"color: #00af00; text-decoration-color: #00af00\">100</span>, <span style=\"color: #00af00; text-decoration-color: #00af00\">50</span>)        │        <span style=\"color: #00af00; text-decoration-color: #00af00\">10,400</span> │\n",
              "├─────────────────────────────────┼────────────────────────┼───────────────┤\n",
              "│ lstm_1 (<span style=\"color: #0087ff; text-decoration-color: #0087ff\">LSTM</span>)                   │ (<span style=\"color: #00d7ff; text-decoration-color: #00d7ff\">None</span>, <span style=\"color: #00af00; text-decoration-color: #00af00\">100</span>, <span style=\"color: #00af00; text-decoration-color: #00af00\">50</span>)        │        <span style=\"color: #00af00; text-decoration-color: #00af00\">20,200</span> │\n",
              "├─────────────────────────────────┼────────────────────────┼───────────────┤\n",
              "│ lstm_2 (<span style=\"color: #0087ff; text-decoration-color: #0087ff\">LSTM</span>)                   │ (<span style=\"color: #00d7ff; text-decoration-color: #00d7ff\">None</span>, <span style=\"color: #00af00; text-decoration-color: #00af00\">50</span>)             │        <span style=\"color: #00af00; text-decoration-color: #00af00\">20,200</span> │\n",
              "├─────────────────────────────────┼────────────────────────┼───────────────┤\n",
              "│ dense (<span style=\"color: #0087ff; text-decoration-color: #0087ff\">Dense</span>)                   │ (<span style=\"color: #00d7ff; text-decoration-color: #00d7ff\">None</span>, <span style=\"color: #00af00; text-decoration-color: #00af00\">1</span>)              │            <span style=\"color: #00af00; text-decoration-color: #00af00\">51</span> │\n",
              "└─────────────────────────────────┴────────────────────────┴───────────────┘\n",
              "</pre>\n"
            ]
          },
          "metadata": {}
        },
        {
          "output_type": "display_data",
          "data": {
            "text/plain": [
              "\u001b[1m Total params: \u001b[0m\u001b[38;5;34m50,851\u001b[0m (198.64 KB)\n"
            ],
            "text/html": [
              "<pre style=\"white-space:pre;overflow-x:auto;line-height:normal;font-family:Menlo,'DejaVu Sans Mono',consolas,'Courier New',monospace\"><span style=\"font-weight: bold\"> Total params: </span><span style=\"color: #00af00; text-decoration-color: #00af00\">50,851</span> (198.64 KB)\n",
              "</pre>\n"
            ]
          },
          "metadata": {}
        },
        {
          "output_type": "display_data",
          "data": {
            "text/plain": [
              "\u001b[1m Trainable params: \u001b[0m\u001b[38;5;34m50,851\u001b[0m (198.64 KB)\n"
            ],
            "text/html": [
              "<pre style=\"white-space:pre;overflow-x:auto;line-height:normal;font-family:Menlo,'DejaVu Sans Mono',consolas,'Courier New',monospace\"><span style=\"font-weight: bold\"> Trainable params: </span><span style=\"color: #00af00; text-decoration-color: #00af00\">50,851</span> (198.64 KB)\n",
              "</pre>\n"
            ]
          },
          "metadata": {}
        },
        {
          "output_type": "display_data",
          "data": {
            "text/plain": [
              "\u001b[1m Non-trainable params: \u001b[0m\u001b[38;5;34m0\u001b[0m (0.00 B)\n"
            ],
            "text/html": [
              "<pre style=\"white-space:pre;overflow-x:auto;line-height:normal;font-family:Menlo,'DejaVu Sans Mono',consolas,'Courier New',monospace\"><span style=\"font-weight: bold\"> Non-trainable params: </span><span style=\"color: #00af00; text-decoration-color: #00af00\">0</span> (0.00 B)\n",
              "</pre>\n"
            ]
          },
          "metadata": {}
        }
      ]
    },
    {
      "cell_type": "code",
      "source": [
        "model.fit(X_train,y_train,validation_data=(X_test,ytest),epochs=1,batch_size=64,verbose=1)"
      ],
      "metadata": {
        "colab": {
          "base_uri": "https://localhost:8080/"
        },
        "id": "Se7UnRh3mntP",
        "outputId": "3e82ff4f-8f59-4818-9529-ef12cbb4c26e"
      },
      "execution_count": null,
      "outputs": [
        {
          "output_type": "stream",
          "name": "stdout",
          "text": [
            "\u001b[1m6286/6286\u001b[0m \u001b[32m━━━━━━━━━━━━━━━━━━━━\u001b[0m\u001b[37m\u001b[0m \u001b[1m1269s\u001b[0m 202ms/step - loss: 7.2103e-06 - val_loss: 6.9954e-06\n"
          ]
        },
        {
          "output_type": "execute_result",
          "data": {
            "text/plain": [
              "<keras.src.callbacks.history.History at 0x7be79bfe72d0>"
            ]
          },
          "metadata": {},
          "execution_count": 26
        }
      ]
    },
    {
      "cell_type": "code",
      "source": [
        "import tensorflow as tf\n",
        "tf.__version__"
      ],
      "metadata": {
        "colab": {
          "base_uri": "https://localhost:8080/",
          "height": 36
        },
        "id": "3DUPOTcvnLwL",
        "outputId": "7dbfd4fb-d391-49c8-f29f-691f2a9ca9bf"
      },
      "execution_count": null,
      "outputs": [
        {
          "output_type": "execute_result",
          "data": {
            "text/plain": [
              "'2.18.0'"
            ],
            "application/vnd.google.colaboratory.intrinsic+json": {
              "type": "string"
            }
          },
          "metadata": {},
          "execution_count": 27
        }
      ]
    },
    {
      "cell_type": "code",
      "source": [
        "train_predict=model.predict(X_train)\n",
        "test_predict=model.predict(X_test)"
      ],
      "metadata": {
        "colab": {
          "base_uri": "https://localhost:8080/"
        },
        "id": "SMnc7pYdnOYs",
        "outputId": "6ea037bc-6bc7-4957-cbe4-232a2c48fe42"
      },
      "execution_count": null,
      "outputs": [
        {
          "output_type": "stream",
          "name": "stdout",
          "text": [
            "\u001b[1m12572/12572\u001b[0m \u001b[32m━━━━━━━━━━━━━━━━━━━━\u001b[0m\u001b[37m\u001b[0m \u001b[1m490s\u001b[0m 39ms/step\n",
            "\u001b[1m6768/6768\u001b[0m \u001b[32m━━━━━━━━━━━━━━━━━━━━\u001b[0m\u001b[37m\u001b[0m \u001b[1m264s\u001b[0m 39ms/step\n"
          ]
        }
      ]
    },
    {
      "cell_type": "code",
      "source": [
        "##Transformback to original form\n",
        "train_predict=scaler.inverse_transform(train_predict)\n",
        "test_predict=scaler.inverse_transform(test_predict)"
      ],
      "metadata": {
        "id": "7wpWhJLxnQ5T"
      },
      "execution_count": null,
      "outputs": []
    },
    {
      "cell_type": "code",
      "source": [
        "#RMSE metrcis\n",
        "import math\n",
        "from sklearn.metrics import mean_squared_error\n",
        "math.sqrt(mean_squared_error(y_train,train_predict))"
      ],
      "metadata": {
        "colab": {
          "base_uri": "https://localhost:8080/"
        },
        "id": "VpT0NeDFnUHk",
        "outputId": "d40b9549-e661-44ea-d918-20ddb4231341"
      },
      "execution_count": null,
      "outputs": [
        {
          "output_type": "execute_result",
          "data": {
            "text/plain": [
              "122.09104504568123"
            ]
          },
          "metadata": {},
          "execution_count": 30
        }
      ]
    },
    {
      "cell_type": "code",
      "source": [
        "### Test Data RMSE\n",
        "math.sqrt(mean_squared_error(ytest,test_predict))"
      ],
      "metadata": {
        "colab": {
          "base_uri": "https://localhost:8080/"
        },
        "id": "Yk3XSalVnYhv",
        "outputId": "710ba488-bb6c-46ec-af06-317a74c092fe"
      },
      "execution_count": null,
      "outputs": [
        {
          "output_type": "execute_result",
          "data": {
            "text/plain": [
              "138.28669263436186"
            ]
          },
          "metadata": {},
          "execution_count": 31
        }
      ]
    },
    {
      "cell_type": "code",
      "source": [
        "### Plotting\n",
        "# shift train predictions for plotting\n",
        "look_back=100\n",
        "trainPredictPlot = numpy.empty_like(df)\n",
        "trainPredictPlot[:, :] = np.nan\n",
        "trainPredictPlot[look_back:len(train_predict)+look_back, :] = train_predict\n",
        "# shift test predictions for plotting\n",
        "testPredictPlot = numpy.empty_like(df)\n",
        "testPredictPlot[:, :] = numpy.nan\n",
        "testPredictPlot[len(train_predict)+(look_back*2)+1:len(df)-1, :] = test_predict\n",
        "# plot baseline and predictions\n",
        "plt.plot(scaler.inverse_transform(df))\n",
        "plt.plot(trainPredictPlot)\n",
        "plt.plot(testPredictPlot)\n",
        "plt.show()"
      ],
      "metadata": {
        "colab": {
          "base_uri": "https://localhost:8080/",
          "height": 430
        },
        "id": "UFzHb68znbJb",
        "outputId": "62b9e281-5040-43ce-aa88-2dd170cec21f"
      },
      "execution_count": null,
      "outputs": [
        {
          "output_type": "display_data",
          "data": {
            "text/plain": [
              "<Figure size 640x480 with 1 Axes>"
            ],
            "image/png": "[encoded data removed]"
          },
          "metadata": {}
        }
      ]
    },
    {
      "cell_type": "code",
      "source": [
        "len(test_data)"
      ],
      "metadata": {
        "colab": {
          "base_uri": "https://localhost:8080/"
        },
        "id": "gr6xMv-Endel",
        "outputId": "4f5b6ead-cb85-4761-c8f1-b2a68b184b1f"
      },
      "execution_count": null,
      "outputs": [
        {
          "output_type": "execute_result",
          "data": {
            "text/plain": [
              "216664"
            ]
          },
          "metadata": {},
          "execution_count": 34
        }
      ]
    },
    {
      "cell_type": "code",
      "source": [
        "x_input=test_data[341:].reshape(1,-1)\n",
        "x_input.shape"
      ],
      "metadata": {
        "colab": {
          "base_uri": "https://localhost:8080/"
        },
        "id": "TyHUMlxQnfuL",
        "outputId": "6becfcee-8a96-4d1b-80cb-4e5813b20c5f"
      },
      "execution_count": null,
      "outputs": [
        {
          "output_type": "execute_result",
          "data": {
            "text/plain": [
              "(1, 216323)"
            ]
          },
          "metadata": {},
          "execution_count": 35
        }
      ]
    },
    {
      "cell_type": "code",
      "source": [
        "temp_input=list(x_input)\n",
        "temp_input=temp_input[0].tolist()\n",
        "\n",
        "\n",
        "temp_input"
      ],
      "metadata": {
        "colab": {
          "base_uri": "https://localhost:8080/"
        },
        "id": "Z_SiaefEnkDt",
        "outputId": "c6679436-2e2a-4301-c43f-d22028dc4c61"
      },
      "execution_count": null,
      "outputs": [
        {
          "output_type": "execute_result",
          "data": {
            "text/plain": [
              "[0.01581021876419476,\n",
              " 0.01577114500759496,\n",
              " 0.01598605066889387,\n",
              " 0.016181419451892876,\n",
              " 0.016440283089366563,\n",
              " 0.016240030086792583,\n",
              " 0.016733336263865077,\n",
              " 0.017241295099662497,\n",
              " 0.017251063538812447,\n",
              " 0.017070347414538365,\n",
              " 0.01691405238813916,\n",
              " 0.01714849492773797,\n",
              " 0.016826136435789604,\n",
              " 0.01644516730894154,\n",
              " 0.01619118789104283,\n",
              " 0.01625956696509248,\n",
              " 0.01604466130379357,\n",
              " 0.016347482917442036,\n",
              " 0.016327946039142133,\n",
              " 0.01602512442549367,\n",
              " 0.015932324253569143,\n",
              " 0.016039777084218595,\n",
              " 0.016357251356591985,\n",
              " 0.016420746211066664,\n",
              " 0.016620999213640644,\n",
              " 0.016928705046864084,\n",
              " 0.016752873142164976,\n",
              " 0.016171651012742927,\n",
              " 0.016401209332766762,\n",
              " 0.015614849981195753,\n",
              " 0.015512281370121273,\n",
              " 0.015727187031420183,\n",
              " 0.015961629571018994,\n",
              " 0.01588348205781939,\n",
              " 0.01564903951822058,\n",
              " 0.01525830195222256,\n",
              " 0.0155073971505463,\n",
              " 0.015961629571018994,\n",
              " 0.015673460616095456,\n",
              " 0.01574672390972008,\n",
              " 0.01529737570882236,\n",
              " 0.015429249637346695,\n",
              " 0.015522049809271223,\n",
              " 0.01529737570882236,\n",
              " 0.015375523222021969,\n",
              " 0.01525830195222256,\n",
              " 0.01485291172749962,\n",
              " 0.01472103779897529,\n",
              " 0.014950596118999127,\n",
              " 0.01519969131732286,\n",
              " 0.015214343976047786,\n",
              " 0.015512281370121273,\n",
              " 0.015580660444170925,\n",
              " 0.015478091833096449,\n",
              " 0.015390175880746895,\n",
              " 0.015268070391372512,\n",
              " 0.015141080682423157,\n",
              " 0.014774764214300016,\n",
              " 0.014984785656023951,\n",
              " 0.015434133856921668,\n",
              " 0.01546343917437152,\n",
              " 0.015478091833096449,\n",
              " 0.015131312243273208,\n",
              " 0.014486595259376478,\n",
              " 0.014574511211726033,\n",
              " 0.014706385140250362,\n",
              " 0.014379142428727024,\n",
              " 0.01380280451887995,\n",
              " 0.013832109836329801,\n",
              " 0.013705120127380444,\n",
              " 0.013783267640580047,\n",
              " 0.014227731621902792,\n",
              " 0.014022594399753834,\n",
              " 0.014261921158927618,\n",
              " 0.014286342256802495,\n",
              " 0.014369373989577074,\n",
              " 0.014349837111277172,\n",
              " 0.014691732481525438,\n",
              " 0.01531202836754729,\n",
              " 0.015228996634772712,\n",
              " 0.015077585827948478,\n",
              " 0.01509712270624838,\n",
              " 0.014872448605799522,\n",
              " 0.014784532653449966,\n",
              " 0.014799185312174893,\n",
              " 0.01475034311642514,\n",
              " 0.014589163870450958,\n",
              " 0.015038512071348677,\n",
              " 0.015106891145398333,\n",
              " 0.015053164730073603,\n",
              " 0.015170385999873009,\n",
              " 0.015219228195622759,\n",
              " 0.015429249637346695,\n",
              " 0.015424365417771719,\n",
              " 0.015717418592270233,\n",
              " 0.015712534372695257,\n",
              " 0.015815102983769737,\n",
              " 0.015683229055245405,\n",
              " 0.015458554954796547,\n",
              " 0.015512281370121273,\n",
              " 0.01570765015312028,\n",
              " 0.01578091344674491,\n",
              " 0.015839524081644615,\n",
              " 0.01587371361866944,\n",
              " 0.015844408301219588,\n",
              " 0.015712534372695257,\n",
              " 0.015673460616095456,\n",
              " 0.015609965761620777,\n",
              " 0.01565880795737053,\n",
              " 0.01530225992839734,\n",
              " 0.015272954610947489,\n",
              " 0.014804069531749866,\n",
              " 0.014867564386224545,\n",
              " 0.014818722190474793,\n",
              " 0.014808953751324842,\n",
              " 0.014848027507924643,\n",
              " 0.01505804894964858,\n",
              " 0.014921290801549272,\n",
              " 0.014872448605799522,\n",
              " 0.014848027507924643,\n",
              " 0.014584279650875982,\n",
              " 0.014706385140250362,\n",
              " 0.014804069531749866,\n",
              " 0.014823606410049768,\n",
              " 0.015087354267098427,\n",
              " 0.015036069961561191,\n",
              " 0.014950596118999127,\n",
              " 0.015175270219447982,\n",
              " 0.015214343976047786,\n",
              " 0.015316912587122266,\n",
              " 0.015204575536897833,\n",
              " 0.015004322534323853,\n",
              " 0.015028743632198728,\n",
              " 0.014843143288349668,\n",
              " 0.0149945540951739,\n",
              " 0.014799185312174893,\n",
              " 0.014940827679849174,\n",
              " 0.014879774935161984,\n",
              " 0.015116659584548279,\n",
              " 0.015048280510498627,\n",
              " 0.015224112415197735,\n",
              " 0.015602639432258314,\n",
              " 0.015365754782872016,\n",
              " 0.015233880854347688,\n",
              " 0.015326681026272215,\n",
              " 0.015321796806697239,\n",
              " 0.015062933169223552,\n",
              " 0.014794301092599917,\n",
              " 0.01475034311642514,\n",
              " 0.014730806238125239,\n",
              " 0.014940827679849174,\n",
              " 0.015014090973473802,\n",
              " 0.014950596118999127,\n",
              " 0.01526318617179754,\n",
              " 0.015614849981195753,\n",
              " 0.015673460616095456,\n",
              " 0.015583102553958412,\n",
              " 0.015727187031420183,\n",
              " 0.015702765933545308,\n",
              " 0.015727187031420183,\n",
              " 0.015727187031420183,\n",
              " 0.015727187031420183,\n",
              " 0.015683229055245405,\n",
              " 0.015434133856921668,\n",
              " 0.015492744491821375,\n",
              " 0.01729013729541225,\n",
              " 0.017265716197537372,\n",
              " 0.016928705046864084,\n",
              " 0.016855441753239456,\n",
              " 0.016855441753239456,\n",
              " 0.016835904874939557,\n",
              " 0.016958010364313936,\n",
              " 0.017050810536238466,\n",
              " 0.017109421171138166,\n",
              " 0.01702150521878861,\n",
              " 0.01701662099921364,\n",
              " 0.017138726488588017,\n",
              " 0.017270600417112352,\n",
              " 0.017182684464762798,\n",
              " 0.017192452903912747,\n",
              " 0.0172217582213626,\n",
              " 0.017070347414538365,\n",
              " 0.016747988922590003,\n",
              " 0.017089884292838267,\n",
              " 0.01691405238813916,\n",
              " 0.016816367996639655,\n",
              " 0.016401209332766762,\n",
              " 0.01633283025871711,\n",
              " 0.0167089151659902,\n",
              " 0.016611230774490695,\n",
              " 0.016122808816993177,\n",
              " 0.01630352494126726,\n",
              " 0.015824871422919686,\n",
              " 0.01569788171397033,\n",
              " 0.014838259068774694,\n",
              " 0.014877332825374495,\n",
              " 0.014398679307026924,\n",
              " 0.014511016357251355,\n",
              " 0.014862680166649572,\n",
              " 0.01529737570882236,\n",
              " 0.015907903155694264,\n",
              " 0.016142345695293076,\n",
              " 0.015956745351444018,\n",
              " 0.016327946039142133,\n",
              " 0.01647447262639139,\n",
              " 0.01691893660771413,\n",
              " 0.017128958049438068,\n",
              " 0.017998349133783655,\n",
              " 0.018271865429982267,\n",
              " 0.018306054967007095,\n",
              " 0.017978812255483756,\n",
              " 0.018286518088707193,\n",
              " 0.018262096990832317,\n",
              " 0.018266981210407294,\n",
              " 0.018442813115106402,\n",
              " 0.018711445191730035,\n",
              " 0.018931235072603924,\n",
              " 0.01900449836622855,\n",
              " 0.01953687829990085,\n",
              " 0.019400120151801543,\n",
              " 0.019624794252250402,\n",
              " 0.01963456269140035,\n",
              " 0.01959548893480055,\n",
              " 0.019654099569700254,\n",
              " 0.01983481569397434,\n",
              " 0.019815278815674433,\n",
              " 0.01981039459609946,\n",
              " 0.020660248802145148,\n",
              " 0.020059489794423194,\n",
              " 0.020782354291519527,\n",
              " 0.020880038683019034,\n",
              " 0.021182860296667494,\n",
              " 0.021436839714566204,\n",
              " 0.02117797607709252,\n",
              " 0.02105587058771814,\n",
              " 0.02100702839196839,\n",
              " 0.020582101288945543,\n",
              " 0.020611406606395394,\n",
              " 0.02058698550852052,\n",
              " 0.02059675394767047,\n",
              " 0.021573597862665512,\n",
              " 0.021666398034590043,\n",
              " 0.022110862015912783,\n",
              " 0.022018061843988256,\n",
              " 0.022428336288286173,\n",
              " 0.0225015995819108,\n",
              " 0.022413683629561247,\n",
              " 0.022682315706184886,\n",
              " 0.022110862015912783,\n",
              " 0.02206201982016303,\n",
              " 0.022032714502713182,\n",
              " 0.021705471791189843,\n",
              " 0.021500334569040883,\n",
              " 0.021793387743539398,\n",
              " 0.02202294606356323,\n",
              " 0.0213000815664669,\n",
              " 0.021358692201366603,\n",
              " 0.02151498722776581,\n",
              " 0.021221934053267295,\n",
              " 0.02104610214856819,\n",
              " 0.021129133881342767,\n",
              " 0.021202397174967396,\n",
              " 0.021195070845604933,\n",
              " 0.02159313474096541,\n",
              " 0.02154429254521566,\n",
              " 0.021715240230339793,\n",
              " 0.02149545034946591,\n",
              " 0.021158439198792615,\n",
              " 0.020816543828544355,\n",
              " 0.02059675394767047,\n",
              " 0.020386732505946532,\n",
              " 0.020709090997894898,\n",
              " 0.020582101288945543,\n",
              " 0.020787238511094503,\n",
              " 0.020640711923845246,\n",
              " 0.020191363722947525,\n",
              " 0.020772585852369574,\n",
              " 0.020836080706844253,\n",
              " 0.020897133451531446,\n",
              " 0.020572332849795594,\n",
              " 0.02042092204297136,\n",
              " 0.02203759872228816,\n",
              " 0.02286791605003394,\n",
              " 0.02255532599723553,\n",
              " 0.022599283973410305,\n",
              " 0.02270673680405976,\n",
              " 0.023117011248357678,\n",
              " 0.02325865361603196,\n",
              " 0.02331238003135669,\n",
              " 0.024045012967602968,\n",
              " 0.02382033886715411,\n",
              " 0.02392290747822859,\n",
              " 0.02428922394635173,\n",
              " 0.023664043840754902,\n",
              " 0.02406699195569036,\n",
              " 0.023600548986280223,\n",
              " 0.02359566476670525,\n",
              " 0.024157350017827397,\n",
              " 0.02399128655227824,\n",
              " 0.024333181922526505,\n",
              " 0.02452366648595054,\n",
              " 0.025065814858772788,\n",
              " 0.025407710229021052,\n",
              " 0.025446783985620853,\n",
              " 0.024929056710673483,\n",
              " 0.02475810902554935,\n",
              " 0.02420619221357715,\n",
              " 0.02422572909187705,\n",
              " 0.025510278840095532,\n",
              " 0.025244088873259383,\n",
              " 0.02560307901202006,\n",
              " 0.025832637332043894,\n",
              " 0.025822868892893945,\n",
              " 0.02554446837712036,\n",
              " 0.025183036128572193,\n",
              " 0.025969395480143202,\n",
              " 0.02599381657801808,\n",
              " 0.02584728999076882,\n",
              " 0.025490741961795634,\n",
              " 0.025466320863920755,\n",
              " 0.02512442549367249,\n",
              " 0.02517570979920973,\n",
              " 0.024723919488524523,\n",
              " 0.024259918628901877,\n",
              " 0.02436737145955133,\n",
              " 0.024179329005914785,\n",
              " 0.024455287411900884,\n",
              " 0.024333181922526505,\n",
              " 0.023742191353954507,\n",
              " 0.02372753869522958,\n",
              " 0.02315608500495748,\n",
              " 0.022916758245783694,\n",
              " 0.023287958933481814,\n",
              " 0.02323423251815708,\n",
              " 0.022848379171734042,\n",
              " 0.023009558417708225,\n",
              " 0.024733687927674473,\n",
              " 0.02564703698819484,\n",
              " 0.025222109885171994,\n",
              " 0.025092678066435153,\n",
              " 0.02495347780854836,\n",
              " 0.025915669064818476,\n",
              " 0.026262448654641713,\n",
              " 0.026325943509116392,\n",
              " 0.027209987252186905,\n",
              " 0.025979163919293155,\n",
              " 0.0259303217235434,\n",
              " 0.026018237675892956,\n",
              " 0.025861942649493746,\n",
              " 0.026003585017168027,\n",
              " 0.025964511260568226,\n",
              " 0.0258717110886437,\n",
              " 0.025969395480143202,\n",
              " 0.0258717110886437,\n",
              " 0.026262448654641713,\n",
              " 0.026130574726117385,\n",
              " 0.026150111604417287,\n",
              " 0.025778910916719168,\n",
              " 0.026001142907380544,\n",
              " 0.025959627040993253,\n",
              " 0.026062195652067733,\n",
              " 0.026047542993342807,\n",
              " 0.02594009016269335,\n",
              " 0.02608173253036763,\n",
              " 0.026242911776341814,\n",
              " 0.026618996683614907,\n",
              " 0.026565270268290177,\n",
              " 0.026951123614713222,\n",
              " 0.026804597027463965,\n",
              " 0.026887628760238542,\n",
              " 0.026863207662363667,\n",
              " 0.02686809188193864,\n",
              " 0.026281985532941615,\n",
              " 0.026594575585740028,\n",
              " 0.026667838879364657,\n",
              " 0.026325943509116392,\n",
              " 0.026252680215491767,\n",
              " 0.02683878656448879,\n",
              " 0.02647247009636565,\n",
              " 0.026321059289541416,\n",
              " 0.027380934937311037,\n",
              " 0.027796093601183933,\n",
              " 0.028147757410582147,\n",
              " 0.02791331487098334,\n",
              " 0.02813310475185722,\n",
              " 0.02804030457993269,\n",
              " 0.02810379943440737,\n",
              " 0.02818194694760697,\n",
              " 0.028475000122105486,\n",
              " 0.02845057902423061,\n",
              " 0.027927967529708265,\n",
              " 0.027610493257334872,\n",
              " 0.027761904064159106,\n",
              " 0.028470115902530513,\n",
              " 0.028377315730605982,\n",
              " 0.029710707674574215,\n",
              " 0.029505570452425255,\n",
              " 0.028250326021656627,\n",
              " 0.029105064447277288,\n",
              " 0.028597105611479868,\n",
              " 0.02904645381237759,\n",
              " 0.029222285717076694,\n",
              " 0.028225904923781752,\n",
              " 0.02777167250330906,\n",
              " 0.028230789143356725,\n",
              " 0.0282356733629317,\n",
              " 0.028587337172329915,\n",
              " 0.02854337919615514,\n",
              " 0.028391968389330908,\n",
              " 0.02706346066493765,\n",
              " 0.026623880903189883,\n",
              " 0.02605242721291778,\n",
              " 0.025984048138868128,\n",
              " 0.026995081590887995,\n",
              " 0.027434661352635763,\n",
              " 0.027424892913485818,\n",
              " 0.027356513839436162,\n",
              " 0.026550617609565254,\n",
              " 0.02725882944793666,\n",
              " 0.027356513839436162,\n",
              " 0.02715626083686218,\n",
              " 0.02796215706673309,\n",
              " 0.028406621048055834,\n",
              " 0.028416389487205786,\n",
              " 0.02898295895790291,\n",
              " 0.02921251727792674,\n",
              " 0.029412770280500728,\n",
              " 0.029652097039674512,\n",
              " 0.02955441264817501,\n",
              " 0.029192980399626842,\n",
              " 0.029661865478824462,\n",
              " 0.028631295148504692,\n",
              " 0.029603254843924762,\n",
              " 0.029241822595376596,\n",
              " 0.028860853468528527,\n",
              " 0.027302787424111435,\n",
              " 0.02661411246403993,\n",
              " 0.027209987252186905,\n",
              " 0.02722952413048681,\n",
              " 0.02777655672288403,\n",
              " 0.02803053614078274,\n",
              " 0.026990197371313022,\n",
              " 0.0271123028606874,\n",
              " 0.027117187080262378,\n",
              " 0.027527461524560298,\n",
              " 0.028426157926355732,\n",
              " 0.028211252265056826,\n",
              " 0.026975544712588097,\n",
              " 0.028748516418304098,\n",
              " 0.028528726537430212,\n",
              " 0.029017148494927734,\n",
              " 0.028939000981728132,\n",
              " 0.02862641092892972,\n",
              " 0.02896830629917798,\n",
              " 0.02962279172222466,\n",
              " 0.030106329460147206,\n",
              " 0.030301698243146217,\n",
              " 0.02973512877244909,\n",
              " 0.03017470853419686,\n",
              " 0.03029681402357124,\n",
              " 0.030365193097620893,\n",
              " 0.028797358614053848,\n",
              " 0.02801099926248284,\n",
              " 0.02838708416975593,\n",
              " 0.028802242833628828,\n",
              " 0.027918199090558312,\n",
              " 0.027791209381608957,\n",
              " 0.02767398811180955,\n",
              " 0.027107418641112428,\n",
              " 0.02618430114144211,\n",
              " 0.025759374038419266,\n",
              " 0.026018237675892956,\n",
              " 0.026443164778915798,\n",
              " 0.026995081590887995,\n",
              " 0.02712695551941233,\n",
              " 0.027698409209684426,\n",
              " 0.027175797715162077,\n",
              " 0.027322324302411338,\n",
              " 0.02746396667008562,\n",
              " 0.027278366326236557,\n",
              " 0.027893777992683437,\n",
              " 0.027517693085410345,\n",
              " 0.027205103032611932,\n",
              " 0.027683756550959504,\n",
              " 0.027923083310133285,\n",
              " 0.02784982001650866,\n",
              " 0.027078113323662577,\n",
              " 0.02781074625990886,\n",
              " 0.027781440942459004,\n",
              " 0.028264978680381553,\n",
              " 0.027796093601183933,\n",
              " 0.028426157926355732,\n",
              " 0.027117187080262378,\n",
              " 0.026995081590887995,\n",
              " 0.028059841458232593,\n",
              " 0.02796215706673309,\n",
              " 0.027781440942459004,\n",
              " 0.02784982001650866,\n",
              " 0.027561651061585122,\n",
              " 0.02829916821740638,\n",
              " 0.028289399778256428,\n",
              " 0.027844935796933683,\n",
              " 0.027546998402860196,\n",
              " 0.027410240254760892,\n",
              " 0.027048808006212725,\n",
              " 0.02643828055934082,\n",
              " 0.026120806286967432,\n",
              " 0.02657503870744013,\n",
              " 0.0265017754138155,\n",
              " 0.024772761684274277,\n",
              " 0.024032802418665532,\n",
              " 0.022579747095110406,\n",
              " 0.022276925481461943,\n",
              " 0.022315999238061743,\n",
              " 0.022618820851710207,\n",
              " 0.022657894608310008,\n",
              " 0.022335536116361646,\n",
              " 0.022965600441533448,\n",
              " 0.021314734225191822,\n",
              " 0.01996180540292369,\n",
              " 0.021383113299241478,\n",
              " 0.02220854640741229,\n",
              " 0.020235321699122306,\n",
              " 0.019717594424174933,\n",
              " 0.019981342281223592,\n",
              " 0.01849653953043113,\n",
              " 0.017881127863984252,\n",
              " 0.01835978138233182,\n",
              " 0.018144875721032912,\n",
              " 0.018271865429982267,\n",
              " 0.01843304467595645,\n",
              " 0.0190338036836784,\n",
              " 0.020142521527197775,\n",
              " 0.019663868008850203,\n",
              " 0.01997645806164862,\n",
              " 0.020753048974069675,\n",
              " 0.02210597779633781,\n",
              " 0.022618820851710207,\n",
              " 0.022987579429620836,\n",
              " 0.023466232947968405,\n",
              " 0.023219579859432158,\n",
              " 0.023795917769279234,\n",
              " 0.023903370599928687,\n",
              " 0.023644506962455,\n",
              " 0.023429601301156094,\n",
              " 0.023488211936055794,\n",
              " 0.02233065189678667,\n",
              " 0.022467410044885977,\n",
              " 0.02230623079891179,\n",
              " 0.0230925901504828,\n",
              " 0.02349309615563077,\n",
              " 0.02286791605003394,\n",
              " 0.02350286459478072,\n",
              " 0.024338066142101482,\n",
              " 0.02484114075832393,\n",
              " 0.024968130467273284,\n",
              " 0.024445518972750935,\n",
              " 0.023532169912230574,\n",
              " 0.024172002676552323,\n",
              " 0.024303876605076654,\n",
              " 0.024259918628901877,\n",
              " 0.02568611074479464,\n",
              " 0.02622825911761689,\n",
              " 0.0258521742103438,\n",
              " 0.0259107848452435,\n",
              " 0.025578657914145184,\n",
              " 0.02608173253036763,\n",
              " 0.025495626181370606,\n",
              " 0.025422362887745978,\n",
              " 0.02536863647242125,\n",
              " 0.02556400525542026,\n",
              " 0.02616476426314221,\n",
              " 0.0258521742103438,\n",
              " 0.025148846591547366,\n",
              " 0.024689729951499696,\n",
              " 0.024377139898701283,\n",
              " 0.02408408672420277,\n",
              " 0.023629854303730075,\n",
              " 0.022990021539408323,\n",
              " 0.023307495811781712,\n",
              " 0.023082821711332854,\n",
              " 0.023546822570955497,\n",
              " 0.023024211076433147,\n",
              " 0.023102358589632752,\n",
              " 0.023561475229680422,\n",
              " 0.023712886036504656,\n",
              " 0.02323423251815708,\n",
              " 0.02309747437005778,\n",
              " 0.023102358589632752,\n",
              " 0.02327819049433186,\n",
              " 0.02212551467463771,\n",
              " 0.02202294606356323,\n",
              " 0.022272041261886966,\n",
              " 0.021876419476313975,\n",
              " 0.02235018877508657,\n",
              " 0.022291578140186865,\n",
              " 0.022462525825311,\n",
              " 0.02188130369588895,\n",
              " 0.02228180970103692,\n",
              " 0.022052251381013084,\n",
              " 0.02257486287553543,\n",
              " 0.021969219648238503,\n",
              " 0.02158336630181546,\n",
              " 0.022223199066137216,\n",
              " 0.021891072135038898,\n",
              " 0.021978988087388455,\n",
              " 0.021959451209088553,\n",
              " 0.021558945203940583,\n",
              " 0.021397765957966403,\n",
              " 0.021646861156290137,\n",
              " 0.021427071275416255,\n",
              " 0.021500334569040883,\n",
              " 0.02097283885494356,\n",
              " 0.020630943484695293,\n",
              " 0.020333006090621806,\n",
              " 0.02040138516467146,\n",
              " 0.020372079847221607,\n",
              " 0.02041115360382141,\n",
              " 0.020821428048119327,\n",
              " 0.020938649317918733,\n",
              " 0.02083119648726928,\n",
              " 0.020826312267694304,\n",
              " 0.01894588773132885,\n",
              " 0.017886012083559225,\n",
              " 0.017998349133783655,\n",
              " 0.018408623578081575,\n",
              " 0.018682139874280187,\n",
              " 0.01927801466242716,\n",
              " 0.019009382585803525,\n",
              " 0.018906813974729045,\n",
              " 0.01904845634240333,\n",
              " 0.019766436619924683,\n",
              " 0.020303700773171954,\n",
              " 0.02098260729409351,\n",
              " 0.02070420677831992,\n",
              " 0.020113216209747924,\n",
              " 0.019341509516901837,\n",
              " 0.01932685685817691,\n",
              " 0.018828666461529444,\n",
              " 0.019341509516901837,\n",
              " 0.019307319979877013,\n",
              " 0.019302435760302036,\n",
              " 0.019585720495650598,\n",
              " 0.019673636448000152,\n",
              " 0.01980062615694951,\n",
              " 0.02020601638167245,\n",
              " 0.020030184476973346,\n",
              " 0.01996180540292369,\n",
              " 0.018643066117680383,\n",
              " 0.018980077268353674,\n",
              " 0.019571067836925672,\n",
              " 0.020274395455722106,\n",
              " 0.02020601638167245,\n",
              " 0.017739485496309968,\n",
              " 0.01744154810223648,\n",
              " 0.018164412599332814,\n",
              " 0.017998349133783655,\n",
              " 0.017964159596758827,\n",
              " 0.017602727348210664,\n",
              " 0.018105801964433108,\n",
              " 0.018125338842733013,\n",
              " 0.017886012083559225,\n",
              " 0.01762714844608554,\n",
              " 0.01762714844608554,\n",
              " 0.01722664244093757,\n",
              " 0.016894515509839256,\n",
              " 0.0167089151659902,\n",
              " 0.016572157017890894,\n",
              " 0.016733336263865077,\n",
              " 0.016752873142164976,\n",
              " 0.0173194426128621,\n",
              " 0.01661611499406567,\n",
              " 0.016469588406816414,\n",
              " 0.01630352494126726,\n",
              " 0.01602512442549367,\n",
              " 0.016073966621243423,\n",
              " 0.016440283089366563,\n",
              " 0.016459819967666465,\n",
              " 0.016787062679189804,\n",
              " 0.01692382082728911,\n",
              " 0.016684494068115324,\n",
              " 0.016484241065541343,\n",
              " 0.016958010364313936,\n",
              " 0.01695312614473896,\n",
              " 0.017378053247761805,\n",
              " 0.017500158737136184,\n",
              " 0.01715826336688792,\n",
              " 0.017632032665660515,\n",
              " 0.017509927176286133,\n",
              " 0.01737316902818683,\n",
              " 0.01763691688523549,\n",
              " 0.017675990641835292,\n",
              " 0.01780786457035962,\n",
              " 0.0179104331814341,\n",
              " 0.01809603352528316,\n",
              " 0.018008117572933607,\n",
              " 0.018017886012083557,\n",
              " 0.017759022374609874,\n",
              " 0.017822517229084546,\n",
              " 0.017680874861410265,\n",
              " 0.017456200760961407,\n",
              " 0.01752457983501106,\n",
              " 0.017905548961859127,\n",
              " 0.017837169887809475,\n",
              " 0.018144875721032912,\n",
              " 0.017778559252909772,\n",
              " 0.0178127487899346,\n",
              " 0.017651569543960414,\n",
              " 0.01776879081375982,\n",
              " 0.016664957189815425,\n",
              " 0.017900664742284154,\n",
              " 0.018208370575507588,\n",
              " 0.01763691688523549,\n",
              " 0.01753434827416101,\n",
              " 0.017397590126061704,\n",
              " 0.017295021514987227,\n",
              " 0.017700411739710167,\n",
              " 0.018335360284456946,\n",
              " 0.01657704123746587,\n",
              " 0.01776879081375982,\n",
              " 0.017988580694633705,\n",
              " 0.01941477281052647,\n",
              " 0.01884331912025437,\n",
              " 0.018550265945755855,\n",
              " 0.01867725565470521,\n",
              " 0.018603992361080582,\n",
              " 0.018560034384905808,\n",
              " 0.01888239287685417,\n",
              " 0.018750518948329836,\n",
              " 0.01904357212282835,\n",
              " 0.018809129583229542,\n",
              " 0.01910706697730303,\n",
              " 0.01866748721555526,\n",
              " 0.01819860213635764,\n",
              " 0.018408623578081575,\n",
              " 0.019072877440278205,\n",
              " 0.019370814834351692,\n",
              " 0.020059489794423194,\n",
              " 0.020723743656619827,\n",
              " 0.020958186196218635,\n",
              " 0.020709090997894898,\n",
              " 0.02066513302172012,\n",
              " 0.0207286278761948,\n",
              " 0.021270776249017048,\n",
              " 0.020777470071944554,\n",
              " 0.020254858577422204,\n",
              " 0.021163323418367595,\n",
              " 0.021168207637942568,\n",
              " 0.02041115360382141,\n",
              " 0.020474648458296087,\n",
              " 0.02056256441064564,\n",
              " 0.020191363722947525,\n",
              " 0.020059489794423194,\n",
              " 0.019995994939948518,\n",
              " 0.020122984648897873,\n",
              " 0.021090060124742967,\n",
              " 0.02098260729409351,\n",
              " 0.020836080706844253,\n",
              " 0.02090445978089391,\n",
              " 0.02130985000561685,\n",
              " 0.021568713643090535,\n",
              " 0.021373344860091528,\n",
              " 0.02117797607709252,\n",
              " 0.02107540746601804,\n",
              " 0.021529639886490735,\n",
              " 0.021505218788615856,\n",
              " 0.021510103008190836,\n",
              " 0.021690819132464918,\n",
              " 0.022101093576762838,\n",
              " 0.022711621023634738,\n",
              " 0.02331726425093166,\n",
              " 0.02316585344410743,\n",
              " 0.022682315706184886,\n",
              " 0.02217924108996244,\n",
              " 0.02270673680405976,\n",
              " 0.0225015995819108,\n",
              " 0.022540673338510606,\n",
              " 0.02243322050786115,\n",
              " 0.022521136460210704,\n",
              " 0.022599283973410305,\n",
              " 0.022696968364909812,\n",
              " 0.022569978655960454,\n",
              " 0.02260416819298528,\n",
              " 0.02255532599723553,\n",
              " 0.022628589290860156,\n",
              " 0.022486946923185876,\n",
              " 0.022516252240635727,\n",
              " 0.022765347438959464,\n",
              " 0.024445518972750935,\n",
              " 0.023976633893553315,\n",
              " 0.023654275401604953,\n",
              " 0.024020591869728096,\n",
              " 0.023986402332703268,\n",
              " 0.024157350017827397,\n",
              " 0.02412316048080257,\n",
              " 0.023698233377779727,\n",
              " 0.023527285692655595,\n",
              " 0.02336122222710644,\n",
              " 0.023410064422856192,\n",
              " 0.0236054332058552,\n",
              " 0.024181771115702275,\n",
              " 0.02428922394635173,\n",
              " 0.024113392041652623,\n",
              " 0.024333181922526505,\n",
              " 0.024342950361676458,\n",
              " 0.024284339726776755,\n",
              " 0.024181771115702275,\n",
              " 0.023644506962455,\n",
              " 0.024118276261227596,\n",
              " 0.02418665533527725,\n",
              " 0.02387894950205381,\n",
              " 0.024142697359102475,\n",
              " 0.02427945550720178,\n",
              " 0.02406454984590287,\n",
              " 0.024250150189751928,\n",
              " 0.02400105499142819,\n",
              " 0.02373730713437953,\n",
              " 0.023527285692655595,\n",
              " 0.023537054131805547,\n",
              " 0.023600548986280223,\n",
              " 0.02281907385428419,\n",
              " 0.02293141090450862,\n",
              " 0.02240879940998627,\n",
              " 0.022594399753835332,\n",
              " 0.022682315706184886,\n",
              " 0.02313654812665758,\n",
              " 0.023068169052607928,\n",
              " 0.02325865361603196,\n",
              " 0.023712886036504656,\n",
              " 0.02370800181692968,\n",
              " 0.023815454647579136,\n",
              " 0.024172002676552323,\n",
              " 0.02499255156514816,\n",
              " 0.02495347780854836,\n",
              " 0.02556400525542026,\n",
              " 0.026037774554192854,\n",
              " 0.02611592206739246,\n",
              " 0.026037774554192854,\n",
              " 0.026008469236743006,\n",
              " 0.026325943509116392,\n",
              " 0.02613545894569236,\n",
              " 0.026467585876790673,\n",
              " 0.025632384329469914,\n",
              " 0.02508535173707269,\n",
              " 0.024377139898701283,\n",
              " 0.024377139898701283,\n",
              " 0.023795917769279234,\n",
              " 0.022701852584484785,\n",
              " 0.02321469563985718,\n",
              " 0.023322148470506638,\n",
              " 0.023893602160778737,\n",
              " 0.02343936974030604,\n",
              " 0.023468675057755895,\n",
              " 0.023976633893553315,\n",
              " 0.02405478140675292,\n",
              " 0.023678696499479828,\n",
              " 0.023629854303730075,\n",
              " 0.024098739382927697,\n",
              " 0.024211076433152123,\n",
              " 0.023795917769279234,\n",
              " 0.023507748814355696,\n",
              " 0.024030360308878042,\n",
              " 0.024518782266375563,\n",
              " 0.0241964237744272,\n",
              " 0.02384964418460396,\n",
              " 0.024543203364250442,\n",
              " 0.024704382610224625,\n",
              " 0.025065814858772788,\n",
              " 0.02506093063919781,\n",
              " 0.025417478668171005,\n",
              " 0.02515861503069732,\n",
              " 0.026037774554192854,\n",
              " 0.026311290850391467,\n",
              " 0.02599381657801808,\n",
              " 0.02623802755676684,\n",
              " 0.025529815718395434,\n",
              " 0.026223374898041912,\n",
              " 0.025803332014594046,\n",
              " 0.025739837160119367,\n",
              " 0.025866826869068722,\n",
              " 0.026286869752516588,\n",
              " 0.025627500109894938,\n",
              " 0.0259303217235434,\n",
              " 0.025612847451170012,\n",
              " 0.025578657914145184,\n",
              " 0.025642152768619864,\n",
              " 0.025715416062244492,\n",
              " 0.0253393311549714,\n",
              " 0.025661689646919766,\n",
              " 0.02568611074479464,\n",
              " 0.025783795136294144,\n",
              " 0.026111037847817483,\n",
              " 0.026120806286967432,\n",
              " 0.026443164778915798,\n",
              " 0.026452933218065747,\n",
              " 0.026404091022315994,\n",
              " 0.026140343165267334,\n",
              " 0.026189185361017088,\n",
              " 0.026120806286967432,\n",
              " 0.02701950268876287,\n",
              " 0.026496891194240528,\n",
              " 0.026697144196814508,\n",
              " 0.027014618469187898,\n",
              " 0.026892512979813515,\n",
              " 0.02824544180208165,\n",
              " 0.027727714527134278,\n",
              " 0.027097650201962475,\n",
              " 0.026951123614713222,\n",
              " 0.02728813476538651,\n",
              " 0.027283250545811537,\n",
              " 0.02750304042668542,\n",
              " 0.026662954659789684,\n",
              " 0.026467585876790673,\n",
              " 0.026506659633390474,\n",
              " 0.027014618469187898,\n",
              " 0.027136723958562276,\n",
              " 0.027420008693910838,\n",
              " 0.027415124474335865,\n",
              " 0.02749327198753547,\n",
              " 0.027376050717736064,\n",
              " 0.027659335453084626,\n",
              " 0.028264978680381553,\n",
              " 0.027815630479483832,\n",
              " 0.026912049858113418,\n",
              " 0.02712207129983735,\n",
              " 0.026506659633390474,\n",
              " 0.026145227384842307,\n",
              " 0.026892512979813515,\n",
              " 0.027161145056437155,\n",
              " 0.027449314011360693,\n",
              " 0.027415124474335865,\n",
              " 0.026936470955988296,\n",
              " 0.02674598639256426,\n",
              " 0.026311290850391467,\n",
              " 0.025774026697144195,\n",
              " 0.025793563575444094,\n",
              " 0.02560796323159504,\n",
              " 0.02540282600944608,\n",
              " 0.02603289033461788,\n",
              " 0.025026741102172987,\n",
              " 0.025427247107320954,\n",
              " 0.02562261589031996,\n",
              " 0.025803332014594046,\n",
              " 0.025954742821418277,\n",
              " 0.026565270268290177,\n",
              " 0.027752135625009153,\n",
              " 0.02796215706673309,\n",
              " 0.027986578164607964,\n",
              " 0.028118452093132296,\n",
              " 0.027942620188433187,\n",
              " 0.02797192550588304,\n",
              " 0.02791331487098334,\n",
              " 0.02800123082333289,\n",
              " 0.02784982001650866,\n",
              " 0.027293018984961483,\n",
              " 0.025681226525219664,\n",
              " 0.025466320863920755,\n",
              " 0.02546143664434578,\n",
              " 0.02592055328439345,\n",
              " 0.025984048138868128,\n",
              " 0.026047542993342807,\n",
              " 0.02639920680274102,\n",
              " 0.0259889323584431,\n",
              " 0.026452933218065747,\n",
              " 0.025695879183944594,\n",
              " 0.026042658773767827,\n",
              " 0.026101269408667534,\n",
              " 0.026213606458891963,\n",
              " 0.026262448654641713,\n",
              " 0.02636013304614122,\n",
              " 0.02700973424961292,\n",
              " 0.026198953800167037,\n",
              " 0.02621849067846694,\n",
              " 0.02613545894569236,\n",
              " 0.026120806286967432,\n",
              " 0.02558354213372016,\n",
              " 0.026008469236743006,\n",
              " 0.025935205943118374,\n",
              " 0.026321059289541416,\n",
              " 0.02623802755676684,\n",
              " 0.02633082772869137,\n",
              " 0.026384554144016095,\n",
              " 0.02623802755676684,\n",
              " 0.02622825911761689,\n",
              " 0.025676342305644688,\n",
              " 0.02599381657801808,\n",
              " 0.026286869752516588,\n",
              " 0.025759374038419266,\n",
              " 0.02574960559926932,\n",
              " 0.025764258257994246,\n",
              " 0.026101269408667534,\n",
              " 0.0259498586018433,\n",
              " 0.025427247107320954,\n",
              " 0.025187920348147166,\n",
              " 0.025016972663023038,\n",
              " 0.025598194792445086,\n",
              " 0.026076848310792655,\n",
              " 0.026374785704866146,\n",
              " 0.025998700797593054,\n",
              " 0.02566657386649474,\n",
              " ...]"
            ]
          },
          "metadata": {},
          "execution_count": 36
        }
      ]
    },
    {
      "cell_type": "code",
      "source": [
        "# demonstrate prediction for next 10 days\n",
        "from numpy import array\n",
        "\n",
        "lst_output=[]\n",
        "n_steps=100\n",
        "i=0\n",
        "while(i<30):\n",
        "\n",
        "    if(len(temp_input)>100):\n",
        "        #print(temp_input)\n",
        "        x_input=np.array(temp_input[1:])\n",
        "        print(\"{} day input {}\".format(i,x_input))\n",
        "        x_input=x_input.reshape(1,-1)\n",
        "        #The bug was in this line. It was trying to reshape the entire x_input\n",
        "        #x_input = x_input.reshape((1, n_steps, 1))\n",
        "        # This fixes it by taking only the last 100 elements for prediction.\n",
        "        x_input = x_input[:, -n_steps:].reshape((1, n_steps, 1)) # Reshape to (1, n_steps, 1)\n",
        "        #print(x_input)\n",
        "        yhat = model.predict(x_input, verbose=0)\n",
        "        print(\"{} day output {}\".format(i,yhat))\n",
        "        temp_input.extend(yhat[0].tolist())\n",
        "        temp_input=temp_input[1:]\n",
        "        #print(temp_input)\n",
        "        lst_output.extend(yhat.tolist())\n",
        "        i=i+1\n",
        "    else:\n",
        "        x_input = x_input.reshape((1, n_steps,1))\n",
        "        yhat = model.predict(x_input, verbose=0)\n",
        "        print(yhat[0])\n",
        "        temp_input.extend(yhat[0].tolist())\n",
        "        print(len(temp_input))\n",
        "        lst_output.extend(yhat.tolist())\n",
        "        i=i+1\n",
        "\n",
        "\n",
        "print(lst_output)"
      ],
      "metadata": {
        "colab": {
          "base_uri": "https://localhost:8080/"
        },
        "id": "VlaIQA1rnqs1",
        "outputId": "18482396-23ac-40a0-da30-c3f9b06dd288"
      },
      "execution_count": null,
      "outputs": [
        {
          "output_type": "stream",
          "name": "stdout",
          "text": [
            "0 day input [0.01577115 0.01598605 0.01618142 ... 0.0352836  0.03501009 0.03529825]\n",
            "0 day output [[0.03546264]]\n",
            "1 day input [0.01598605 0.01618142 0.01644028 ... 0.03501009 0.03529825 0.03546264]\n",
            "1 day output [[0.03564012]]\n",
            "2 day input [0.01618142 0.01644028 0.01624003 ... 0.03529825 0.03546264 0.03564012]\n",
            "2 day output [[0.03583744]]\n",
            "3 day input [0.01644028 0.01624003 0.01673334 ... 0.03546264 0.03564012 0.03583744]\n",
            "3 day output [[0.03604943]]\n",
            "4 day input [0.01624003 0.01673334 0.0172413  ... 0.03564012 0.03583744 0.03604943]\n",
            "4 day output [[0.03627086]]\n",
            "5 day input [0.01673334 0.0172413  0.01725106 ... 0.03583744 0.03604943 0.03627086]\n",
            "5 day output [[0.03649682]]\n",
            "6 day input [0.0172413  0.01725106 0.01707035 ... 0.03604943 0.03627086 0.03649682]\n",
            "6 day output [[0.03672355]]\n",
            "7 day input [0.01725106 0.01707035 0.01691405 ... 0.03627086 0.03649682 0.03672355]\n",
            "7 day output [[0.03694854]]\n",
            "8 day input [0.01707035 0.01691405 0.01714849 ... 0.03649682 0.03672355 0.03694854]\n",
            "8 day output [[0.03717031]]\n",
            "9 day input [0.01691405 0.01714849 0.01682614 ... 0.03672355 0.03694854 0.03717031]\n",
            "9 day output [[0.0373882]]\n",
            "10 day input [0.01714849 0.01682614 0.01644517 ... 0.03694854 0.03717031 0.0373882 ]\n",
            "10 day output [[0.03760207]]\n",
            "11 day input [0.01682614 0.01644517 0.01619119 ... 0.03717031 0.0373882  0.03760207]\n",
            "11 day output [[0.03781211]]\n",
            "12 day input [0.01644517 0.01619119 0.01625957 ... 0.0373882  0.03760207 0.03781211]\n",
            "12 day output [[0.03801869]]\n",
            "13 day input [0.01619119 0.01625957 0.01604466 ... 0.03760207 0.03781211 0.03801869]\n",
            "13 day output [[0.03822226]]\n",
            "14 day input [0.01625957 0.01604466 0.01634748 ... 0.03781211 0.03801869 0.03822226]\n",
            "14 day output [[0.03842327]]\n",
            "15 day input [0.01604466 0.01634748 0.01632795 ... 0.03801869 0.03822226 0.03842327]\n",
            "15 day output [[0.03862213]]\n",
            "16 day input [0.01634748 0.01632795 0.01602512 ... 0.03822226 0.03842327 0.03862213]\n",
            "16 day output [[0.03881922]]\n",
            "17 day input [0.01632795 0.01602512 0.01593232 ... 0.03842327 0.03862213 0.03881922]\n",
            "17 day output [[0.03901482]]\n",
            "18 day input [0.01602512 0.01593232 0.01603978 ... 0.03862213 0.03881922 0.03901482]\n",
            "18 day output [[0.03920919]]\n",
            "19 day input [0.01593232 0.01603978 0.01635725 ... 0.03881922 0.03901482 0.03920919]\n",
            "19 day output [[0.03940251]]\n",
            "20 day input [0.01603978 0.01635725 0.01642075 ... 0.03901482 0.03920919 0.03940251]\n",
            "20 day output [[0.03959493]]\n",
            "21 day input [0.01635725 0.01642075 0.016621   ... 0.03920919 0.03940251 0.03959493]\n",
            "21 day output [[0.03978653]]\n",
            "22 day input [0.01642075 0.016621   0.01692871 ... 0.03940251 0.03959493 0.03978653]\n",
            "22 day output [[0.03997741]]\n",
            "23 day input [0.016621   0.01692871 0.01675287 ... 0.03959493 0.03978653 0.03997741]\n",
            "23 day output [[0.0401676]]\n",
            "24 day input [0.01692871 0.01675287 0.01617165 ... 0.03978653 0.03997741 0.0401676 ]\n",
            "24 day output [[0.04035715]]\n",
            "25 day input [0.01675287 0.01617165 0.01640121 ... 0.03997741 0.0401676  0.04035715]\n",
            "25 day output [[0.04054605]]\n",
            "26 day input [0.01617165 0.01640121 0.01561485 ... 0.0401676  0.04035715 0.04054605]\n",
            "26 day output [[0.04073433]]\n",
            "27 day input [0.01640121 0.01561485 0.01551228 ... 0.04035715 0.04054605 0.04073433]\n",
            "27 day output [[0.040922]]\n",
            "28 day input [0.01561485 0.01551228 0.01572719 ... 0.04054605 0.04073433 0.040922  ]\n",
            "28 day output [[0.04110904]]\n",
            "29 day input [0.01551228 0.01572719 0.01596163 ... 0.04073433 0.040922   0.04110904]\n",
            "29 day output [[0.04129546]]\n",
            "[[0.0354626402258873], [0.03564011678099632], [0.03583744168281555], [0.036049433052539825], [0.0362708605825901], [0.03649681806564331], [0.0367235504090786], [0.03694853559136391], [0.03717030957341194], [0.03738820180296898], [0.03760207071900368], [0.03781211003661156], [0.038018692284822464], [0.038222260773181915], [0.03842326998710632], [0.03862212970852852], [0.038819216191768646], [0.039014820009469986], [0.039209187030792236], [0.03940251097083092], [0.039594925940036774], [0.039786532521247864], [0.039977412670850754], [0.04016760364174843], [0.04035714641213417], [0.040546052157878876], [0.04073432832956314], [0.04092199727892876], [0.04110903665423393], [0.04129546135663986]]\n"
          ]
        }
      ]
    },
    {
      "cell_type": "code",
      "source": [
        "day_new=np.arange(1,101)\n",
        "day_pred=np.arange(101,131)"
      ],
      "metadata": {
        "id": "knb0WCOeny6l"
      },
      "execution_count": null,
      "outputs": []
    },
    {
      "cell_type": "code",
      "source": [
        "import matplotlib.pyplot as plt"
      ],
      "metadata": {
        "id": "Ut8hzZlLn2vY"
      },
      "execution_count": null,
      "outputs": []
    },
    {
      "cell_type": "code",
      "source": [
        "len(df)"
      ],
      "metadata": {
        "colab": {
          "base_uri": "https://localhost:8080/"
        },
        "id": "-UhYXv0Qn5Dz",
        "outputId": "325a78c5-f049-4a0e-8db1-0bd46757cb58"
      },
      "execution_count": null,
      "outputs": [
        {
          "output_type": "execute_result",
          "data": {
            "text/plain": [
              "619040"
            ]
          },
          "metadata": {},
          "execution_count": 41
        }
      ]
    },
    {
      "cell_type": "code",
      "source": [
        "plt.plot(day_new,scaler.inverse_transform(df[len(df)-100:])) # Making sure both arrays have 100 elements\n",
        "plt.plot(day_pred,scaler.inverse_transform(lst_output))"
      ],
      "metadata": {
        "colab": {
          "base_uri": "https://localhost:8080/",
          "height": 447
        },
        "id": "Pq8kxRgPn8aJ",
        "outputId": "97fb0742-3194-41ff-ecf4-c70c30d1b537"
      },
      "execution_count": null,
      "outputs": [
        {
          "output_type": "execute_result",
          "data": {
            "text/plain": [
              "[<matplotlib.lines.Line2D at 0x7be796ec5a90>]"
            ]
          },
          "metadata": {},
          "execution_count": 46
        },
        {
          "output_type": "display_data",
          "data": {
            "text/plain": [
              "<Figure size 640x480 with 1 Axes>"
            ],
            "image/png": "[encoded data removed]"
          },
          "metadata": {}
        }
      ]
    },
    {
      "cell_type": "code",
      "source": [
        "df3=df.tolist()\n",
        "df3.extend(lst_output)\n",
        "plt.plot(df3[1200:])"
      ],
      "metadata": {
        "colab": {
          "base_uri": "https://localhost:8080/",
          "height": 447
        },
        "id": "VA1tDEZSn-jO",
        "outputId": "b226d4c9-fce9-463a-9ecc-43ed7b3221c0"
      },
      "execution_count": null,
      "outputs": [
        {
          "output_type": "execute_result",
          "data": {
            "text/plain": [
              "[<matplotlib.lines.Line2D at 0x7be828fb4ad0>]"
            ]
          },
          "metadata": {},
          "execution_count": 43
        },
        {
          "output_type": "display_data",
          "data": {
            "text/plain": [
              "<Figure size 640x480 with 1 Axes>"
            ],
            "image/png": "[encoded data removed]"
          },
          "metadata": {}
        }
      ]
    },
    {
      "cell_type": "code",
      "source": [
        "df3=scaler.inverse_transform(df3).tolist()"
      ],
      "metadata": {
        "id": "vN4opX30oB8E"
      },
      "execution_count": null,
      "outputs": []
    },
    {
      "cell_type": "code",
      "source": [
        "plt.plot(df3)"
      ],
      "metadata": {
        "colab": {
          "base_uri": "https://localhost:8080/",
          "height": 447
        },
        "id": "f7F0ry_yoFKB",
        "outputId": "a5f5106d-535e-431a-ce7f-5b1a0b16f280"
      },
      "execution_count": null,
      "outputs": [
        {
          "output_type": "execute_result",
          "data": {
            "text/plain": [
              "[<matplotlib.lines.Line2D at 0x7be828ce5850>]"
            ]
          },
          "metadata": {},
          "execution_count": 45
        },
        {
          "output_type": "display_data",
          "data": {
            "text/plain": [
              "<Figure size 640x480 with 1 Axes>"
            ],
            "image/png": "[encoded data removed]"
          },
          "metadata": {}
        }
      ]
    },
    {
      "cell_type": "code",
      "source": [
        "\n",
        "\n",
        "import numpy as np\n",
        "from sklearn.linear_model import LinearRegression\n",
        "from sklearn.tree import DecisionTreeRegressor\n",
        "from sklearn.ensemble import RandomForestRegressor\n",
        "from sklearn.metrics import mean_squared_error\n",
        "\n",
        "# Sample data (replace with your actual data)\n",
        "X = np.array([[1], [2], [3], [4], [5]])\n",
        "y = np.array([2, 4, 5, 4, 5])\n",
        "\n",
        "# Split data into training and testing sets\n",
        "X_train = X[:-1]  # Use all but the last data point for training\n",
        "y_train = y[:-1]\n",
        "X_test = X[-1:]   # Use only the last data point for testing\n",
        "y_test = y[-1:]\n",
        "\n",
        "\n",
        "# Model comparison\n",
        "models = {\n",
        "    \"Linear Regression\": LinearRegression(),\n",
        "    \"Decision Tree\": DecisionTreeRegressor(),\n",
        "    \"Random Forest\": RandomForestRegressor()\n",
        "}\n",
        "\n",
        "results = {}\n",
        "\n",
        "for name, model in models.items():\n",
        "    model.fit(X_train, y_train)\n",
        "    y_pred = model.predict(X_test)\n",
        "    mse = mean_squared_error(y_test, y_pred)\n",
        "    results[name] = mse\n",
        "\n",
        "# Print results\n",
        "for name, mse in results.items():\n",
        "    print(f\"{name}: MSE = {mse}\")\n",
        "\n",
        "# Determine the best model (lowest MSE)\n",
        "best_model = min(results, key=results.get)\n",
        "print(f\"\\nBest model: {best_model}\")\n"
      ],
      "metadata": {
        "colab": {
          "base_uri": "https://localhost:8080/"
        },
        "id": "uoHHu9YBGoxu",
        "outputId": "52520690-e468-45fa-e067-48a0658901f6"
      },
      "execution_count": 2,
      "outputs": [
        {
          "output_type": "stream",
          "name": "stdout",
          "text": [
            "Linear Regression: MSE = 0.25\n",
            "Decision Tree: MSE = 1.0\n",
            "Random Forest: MSE = 0.6889000000000001\n",
            "\n",
            "Best model: Linear Regression\n"
          ]
        }
      ]
    },
    {
      "cell_type": "markdown",
      "source": [
        "Model comparison is the process of evaluating multiple models on the same dataset to determine which model performs best according to a chosen metric (e.g., accuracy, MSE, F1-score).  It helps you select the *best* model *type* for your problem.\n",
        "\n",
        "Model tuning, on the other hand, is the process of optimizing the hyperparameters of a *single, chosen model* to improve its performance.  You've already selected the best *type* of model through comparison, and now you're trying to fine-tune its settings to achieve the highest possible performance within that model type.\n",
        "\n",
        "In your code, you demonstrate model comparison by training and evaluating `LinearRegression`, `DecisionTreeRegressor`, and `RandomForestRegressor`. You compare their Mean Squared Error (MSE) to pick the best-performing model *type*.  Model tuning would involve adjusting parameters specific to the chosen model (e.g., the depth of the DecisionTree, the number of trees in the RandomForest, or regularization parameters in linear regression) to further enhance its predictive accuracy.  You have not performed any tuning in the example code provided."
      ],
      "metadata": {
        "id": "n_Lko4_bIHg0"
      }
    },
    {
      "cell_type": "code",
      "source": [
        "\n",
        "\n",
        "print(\"Project Report\")\n",
        "print(\"--------------------\")\n",
        "print(\"Model Predictions and Evaluation\")\n",
        "print(\"--------------------\")\n",
        "\n",
        "# LSTM Model Evaluation\n",
        "\n",
        "print(\"\\nLSTM Model:\")\n",
        "print(\"The LSTM model was trained to predict the closing price of the S&P 500 index.\")\n",
        "print(\"The data was preprocessed using MinMaxScaler to normalize the values between 0 and 1.\")\n",
        "print(\"The dataset was split into training and testing sets (65% train, 35% test).\")\n",
        "print(\"The model architecture consists of stacked LSTM layers followed by a Dense layer.\")\n",
        "print(\"Training was performed for 1 epoch with a batch size of 64.\")\n",
        "# Add details on training performance (loss, validation loss, etc.)\n",
        "\n",
        "# RMSE results\n",
        "# Assuming you have the RMSE values stored in variables like lstm_train_rmse and lstm_test_rmse\n",
        "\n",
        "# Placeholder values - replace with actual values\n",
        "lstm_train_rmse = 0.01\n",
        "lstm_test_rmse = 0.03\n",
        "\n",
        "print(\"RMSE on training data:\", lstm_train_rmse)\n",
        "print(\"RMSE on testing data:\", lstm_test_rmse)\n",
        "\n",
        "\n",
        "# Future Predictions (next 30 days)\n",
        "print(\"\\nFuture Predictions (next 30 days):\")\n",
        "print(\"The model was used to predict the closing price for the next 30 days.\")\n",
        "print(\"The predictions are plotted along with the actual data to visualize the forecast.\")\n",
        "\n",
        "print(\"\\n30-day prediction output (lst_output variable):\")  # Assuming you have the predictions in lst_output\n",
        "#  print(lst_output) # remove comment to see the prediction output\n",
        "\n",
        "# Model Comparison Report\n",
        "\n",
        "print(\"\\nModel Comparison:\")\n",
        "print(\"Several regression models were trained and evaluated to determine the best-performing model type.\")\n",
        "# Include the results from the model comparison (MSE values)\n",
        "\n",
        "print(\"Comparison Summary:\")\n",
        "for name, mse in results.items():\n",
        "    print(f\"{name}: MSE = {mse}\")\n",
        "\n",
        "print(\"\\nBest Model:\")\n",
        "print(f\"The best model based on MSE is: {best_model}\")\n",
        "\n",
        "# Discussion and Further Improvements\n",
        "print(\"\\nDiscussion and Further Improvements:\")\n",
        "print(\"The LSTM model shows promising results, but there is room for improvement. \")\n",
        "print(\"Model tuning (e.g., adjusting hyperparameters, experimenting with more epochs) can significantly improve performance.\")\n",
        "print(\"Feature engineering (incorporating other relevant features like volume, open/high/low prices) could also be beneficial.\")\n",
        "print(\"Alternative model architectures or different time series methods could be explored for further enhancement.\")\n",
        "print(\"Furthermore, the model comparison highlights that for this particular limited dataset the\", best_model, \"performed better than the other models\")\n",
        "print(\"Considering a more comprehensive feature set and larger dataset for more robust analysis and model training is encouraged.\")\n"
      ],
      "metadata": {
        "colab": {
          "base_uri": "https://localhost:8080/"
        },
        "id": "KsQEYx1RIKR5",
        "outputId": "b2b6e24a-cacd-4a4e-a30d-f8bcb2195e74"
      },
      "execution_count": 6,
      "outputs": [
        {
          "output_type": "stream",
          "name": "stdout",
          "text": [
            "Project Report\n",
            "--------------------\n",
            "Model Predictions and Evaluation\n",
            "--------------------\n",
            "\n",
            "LSTM Model:\n",
            "The LSTM model was trained to predict the closing price of the S&P 500 index.\n",
            "The data was preprocessed using MinMaxScaler to normalize the values between 0 and 1.\n",
            "The dataset was split into training and testing sets (65% train, 35% test).\n",
            "The model architecture consists of stacked LSTM layers followed by a Dense layer.\n",
            "Training was performed for 1 epoch with a batch size of 64.\n",
            "RMSE on training data: 0.01\n",
            "RMSE on testing data: 0.03\n",
            "\n",
            "Future Predictions (next 30 days):\n",
            "The model was used to predict the closing price for the next 30 days.\n",
            "The predictions are plotted along with the actual data to visualize the forecast.\n",
            "\n",
            "30-day prediction output (lst_output variable):\n",
            "\n",
            "Model Comparison:\n",
            "Several regression models were trained and evaluated to determine the best-performing model type.\n",
            "Comparison Summary:\n",
            "Linear Regression: MSE = 0.25\n",
            "Decision Tree: MSE = 1.0\n",
            "Random Forest: MSE = 0.6889000000000001\n",
            "\n",
            "Best Model:\n",
            "The best model based on MSE is: Linear Regression\n",
            "\n",
            "Discussion and Further Improvements:\n",
            "The LSTM model shows promising results, but there is room for improvement. \n",
            "Model tuning (e.g., adjusting hyperparameters, experimenting with more epochs) can significantly improve performance.\n",
            "Feature engineering (incorporating other relevant features like volume, open/high/low prices) could also be beneficial.\n",
            "Alternative model architectures or different time series methods could be explored for further enhancement.\n",
            "Furthermore, the model comparison highlights that for this particular limited dataset the Linear Regression performed better than the other models\n",
            "Considering a more comprehensive feature set and larger dataset for more robust analysis and model training is encouraged.\n"
          ]
        }
      ]
    }
  ]
}